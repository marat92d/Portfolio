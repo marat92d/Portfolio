{
 "cells": [
  {
   "cell_type": "markdown",
   "metadata": {},
   "source": [
    "# Очистка и визуализация данных\n",
    "##    Данные по загрязнению морей России"
   ]
  },
  {
   "cell_type": "markdown",
   "metadata": {},
   "source": [
    "Целью данного блокнота является очистка и подготовка данных по загрязнению морей России, взятых с открытой базы данных сайта\n",
    "портала \"Единая государственная система информации об обстановке  в мировом океане\"\n",
    "http://esimo.ru/portal/portal/esimo-user/main\n",
    "\n"
   ]
  },
  {
   "cell_type": "markdown",
   "metadata": {},
   "source": [
    "Начнем с импортирования основых модулей для работы и посмотрим на данный csv файл"
   ]
  },
  {
   "cell_type": "code",
   "execution_count": 1,
   "metadata": {},
   "outputs": [],
   "source": [
    "import pandas as pd\n",
    "import matplotlib.pyplot as plt\n",
    "import seaborn as sns\n",
    "%matplotlib inline"
   ]
  },
  {
   "cell_type": "code",
   "execution_count": 2,
   "metadata": {},
   "outputs": [
    {
     "name": "stdout",
     "output_type": "stream",
     "text": [
      "(727, 15)\n"
     ]
    }
   ],
   "source": [
    "pollution_raw = pd.read_csv('pollution.csv')\n",
    "print(pollution_raw.shape)"
   ]
  },
  {
   "cell_type": "markdown",
   "metadata": {},
   "source": [
    "Как видно датесэт имеет 15 колонок и 727 строк.Посмотрим на сэмпл из пяти строк"
   ]
  },
  {
   "cell_type": "code",
   "execution_count": 3,
   "metadata": {},
   "outputs": [
    {
     "data": {
      "text/html": [
       "<div>\n",
       "<style scoped>\n",
       "    .dataframe tbody tr th:only-of-type {\n",
       "        vertical-align: middle;\n",
       "    }\n",
       "\n",
       "    .dataframe tbody tr th {\n",
       "        vertical-align: top;\n",
       "    }\n",
       "\n",
       "    .dataframe thead th {\n",
       "        text-align: right;\n",
       "    }\n",
       "</style>\n",
       "<table border=\"1\" class=\"dataframe\">\n",
       "  <thead>\n",
       "    <tr style=\"text-align: right;\">\n",
       "      <th></th>\n",
       "      <th>Единица данных: идентификатор</th>\n",
       "      <th>Единица данных: количество</th>\n",
       "      <th>Показатель</th>\n",
       "      <th>Описание</th>\n",
       "      <th>Геообъект: идентификатор</th>\n",
       "      <th>Геообъект: название</th>\n",
       "      <th>Геообъект: код</th>\n",
       "      <th>Долгота точки (град., дес.доли град)</th>\n",
       "      <th>Широта точки (град., дес.доли град)</th>\n",
       "      <th>Параметр: код</th>\n",
       "      <th>Параметр: значение</th>\n",
       "      <th>Параметр: значение (max)</th>\n",
       "      <th>Параметр: значение (min)</th>\n",
       "      <th>Единица измерения</th>\n",
       "      <th>Год</th>\n",
       "    </tr>\n",
       "  </thead>\n",
       "  <tbody>\n",
       "    <tr>\n",
       "      <th>522</th>\n",
       "      <td>1128</td>\n",
       "      <td>114</td>\n",
       "      <td>100.00</td>\n",
       "      <td>Акватория</td>\n",
       "      <td>1510</td>\n",
       "      <td>Чёрное море</td>\n",
       "      <td>30</td>\n",
       "      <td>38.1958</td>\n",
       "      <td>43.6883</td>\n",
       "      <td>СПАВ</td>\n",
       "      <td>3.5965</td>\n",
       "      <td>15.00</td>\n",
       "      <td>0.000</td>\n",
       "      <td>мкг/л</td>\n",
       "      <td>2013</td>\n",
       "    </tr>\n",
       "    <tr>\n",
       "      <th>577</th>\n",
       "      <td>1183</td>\n",
       "      <td>17</td>\n",
       "      <td>0.05</td>\n",
       "      <td>Дооб - Абрау-Дюрсо</td>\n",
       "      <td>1502</td>\n",
       "      <td>Чёрное море</td>\n",
       "      <td>30</td>\n",
       "      <td>37.7609</td>\n",
       "      <td>44.6280</td>\n",
       "      <td>TPHs</td>\n",
       "      <td>0.0347</td>\n",
       "      <td>0.06</td>\n",
       "      <td>0.010</td>\n",
       "      <td>мг/л</td>\n",
       "      <td>2005</td>\n",
       "    </tr>\n",
       "    <tr>\n",
       "      <th>694</th>\n",
       "      <td>1310</td>\n",
       "      <td>11</td>\n",
       "      <td>100.00</td>\n",
       "      <td>Таганрогский залив</td>\n",
       "      <td>2101</td>\n",
       "      <td>Чёрное море</td>\n",
       "      <td>30</td>\n",
       "      <td>38.3963</td>\n",
       "      <td>46.9677</td>\n",
       "      <td>СПАВ</td>\n",
       "      <td>120.0000</td>\n",
       "      <td>180.00</td>\n",
       "      <td>80.000</td>\n",
       "      <td>мкг/л</td>\n",
       "      <td>1996</td>\n",
       "    </tr>\n",
       "    <tr>\n",
       "      <th>715</th>\n",
       "      <td>1331</td>\n",
       "      <td>24</td>\n",
       "      <td>0.05</td>\n",
       "      <td>Таганрогский залив</td>\n",
       "      <td>2101</td>\n",
       "      <td>Чёрное море</td>\n",
       "      <td>30</td>\n",
       "      <td>38.3963</td>\n",
       "      <td>46.9677</td>\n",
       "      <td>TPHs</td>\n",
       "      <td>0.0931</td>\n",
       "      <td>0.18</td>\n",
       "      <td>0.004</td>\n",
       "      <td>мг/л</td>\n",
       "      <td>2007</td>\n",
       "    </tr>\n",
       "    <tr>\n",
       "      <th>282</th>\n",
       "      <td>574</td>\n",
       "      <td>68</td>\n",
       "      <td>0.05</td>\n",
       "      <td>Махачкала</td>\n",
       "      <td>3504</td>\n",
       "      <td>Каспийское море</td>\n",
       "      <td>0</td>\n",
       "      <td>47.6603</td>\n",
       "      <td>43.0676</td>\n",
       "      <td>TPHs</td>\n",
       "      <td>0.0851</td>\n",
       "      <td>0.31</td>\n",
       "      <td>0.010</td>\n",
       "      <td>мг/л</td>\n",
       "      <td>2003</td>\n",
       "    </tr>\n",
       "  </tbody>\n",
       "</table>\n",
       "</div>"
      ],
      "text/plain": [
       "     Единица данных: идентификатор  Единица данных: количество  Показатель  \\\n",
       "522                           1128                         114      100.00   \n",
       "577                           1183                          17        0.05   \n",
       "694                           1310                          11      100.00   \n",
       "715                           1331                          24        0.05   \n",
       "282                            574                          68        0.05   \n",
       "\n",
       "               Описание  Геообъект: идентификатор Геообъект: название  \\\n",
       "522           Акватория                      1510         Чёрное море   \n",
       "577  Дооб - Абрау-Дюрсо                      1502         Чёрное море   \n",
       "694  Таганрогский залив                      2101         Чёрное море   \n",
       "715  Таганрогский залив                      2101         Чёрное море   \n",
       "282           Махачкала                      3504     Каспийское море   \n",
       "\n",
       "     Геообъект: код  Долгота точки (град., дес.доли град)  \\\n",
       "522              30                               38.1958   \n",
       "577              30                               37.7609   \n",
       "694              30                               38.3963   \n",
       "715              30                               38.3963   \n",
       "282               0                               47.6603   \n",
       "\n",
       "     Широта точки (град., дес.доли град) Параметр: код  Параметр: значение  \\\n",
       "522                              43.6883          СПАВ              3.5965   \n",
       "577                              44.6280          TPHs              0.0347   \n",
       "694                              46.9677          СПАВ            120.0000   \n",
       "715                              46.9677          TPHs              0.0931   \n",
       "282                              43.0676          TPHs              0.0851   \n",
       "\n",
       "     Параметр: значение (max)  Параметр: значение (min) Единица измерения  \\\n",
       "522                     15.00                     0.000             мкг/л   \n",
       "577                      0.06                     0.010              мг/л   \n",
       "694                    180.00                    80.000             мкг/л   \n",
       "715                      0.18                     0.004              мг/л   \n",
       "282                      0.31                     0.010              мг/л   \n",
       "\n",
       "      Год  \n",
       "522  2013  \n",
       "577  2005  \n",
       "694  1996  \n",
       "715  2007  \n",
       "282  2003  "
      ]
     },
     "execution_count": 3,
     "metadata": {},
     "output_type": "execute_result"
    }
   ],
   "source": [
    "pollution_raw.sample(5)"
   ]
  },
  {
   "cell_type": "markdown",
   "metadata": {},
   "source": [
    "Посмотрим на описание колонок датасэта, данное на портале:\n",
    "* **Единица данных: идентификатор** - id записи загрязнения \n",
    "* **Единица данных: количество** - количество проб, взятых для замера загрязнения\n",
    "* **Показатель** - предельно допустимая концентрация(ПДК) для данного типа загрязнения\n",
    "* **Описание** - участок моря в котором производилось измерение\n",
    "* **Геообъект** - идентификатор -  геокод участка\n",
    "* **Геообъект: название** - море которому принадлежит участок\n",
    "* **Геообъект: код** - геокод моря\n",
    "* **Долгота точки (град., дес.доли град)** - долгота участка\n",
    "* **Широта точки (град., дес.доли град)** - широта участка\n",
    "* **Параметр: код** - тип загрязнения\n",
    "* **Параметр: значение** - само значение загрязнения\n",
    "* **Параметр: значение (max)** - максимальное зафиксированное значение на участке\n",
    "* **Параметр: значение (max)** - минимальное зафиксированное значение на участке\n",
    "* **Единица измерения** - загрязнителя\n",
    "* **Год**"
   ]
  },
  {
   "cell_type": "markdown",
   "metadata": {},
   "source": [
    "Начнем очистку с удаления *малоинформативных* колонок <br>\n",
    "Посмотрим на список морей представленных в сэте"
   ]
  },
  {
   "cell_type": "code",
   "execution_count": 4,
   "metadata": {},
   "outputs": [
    {
     "data": {
      "text/plain": [
       "array(['Азовское море', 'Балтийское море', 'Белое море',\n",
       "       'Каспийское море', 'Чёрное море'], dtype=object)"
      ]
     },
     "execution_count": 4,
     "metadata": {},
     "output_type": "execute_result"
    }
   ],
   "source": [
    "pollution_raw['Геообъект: название'].unique()"
   ]
  },
  {
   "cell_type": "markdown",
   "metadata": {},
   "source": [
    "Так как в сэте представленны всего 5 морей, то колонка **Геообъект: код** не несет большой информации <br>\n",
    "Посмотрим на распределение количества проб на каждом участке:"
   ]
  },
  {
   "cell_type": "code",
   "execution_count": 5,
   "metadata": {},
   "outputs": [
    {
     "data": {
      "text/plain": [
       "<matplotlib.axes._subplots.AxesSubplot at 0x26f09036e48>"
      ]
     },
     "execution_count": 5,
     "metadata": {},
     "output_type": "execute_result"
    },
    {
     "data": {
      "image/png": "[encoded data removed]",
      "text/plain": [
       "<Figure size 432x288 with 1 Axes>"
      ]
     },
     "metadata": {
      "needs_background": "light"
     },
     "output_type": "display_data"
    }
   ],
   "source": [
    "pollution_raw['Единица данных: количество'].hist()"
   ]
  },
  {
   "cell_type": "markdown",
   "metadata": {},
   "source": [
    "Так как в среднем на всех участках было отобрано равное количество проб, то колонку **Единица данных: количество**<br>\n",
    "    можно тоже опустить. Так же не несет большой инф. нагрузки широта и долгота участков моря, а так же максимальное\n",
    "    и минимальное значение на каждом участке"
   ]
  },
  {
   "cell_type": "code",
   "execution_count": 6,
   "metadata": {},
   "outputs": [
    {
     "data": {
      "text/plain": [
       "array(['TPHs', 'СПАВ', 'Фенолы'], dtype=object)"
      ]
     },
     "execution_count": 6,
     "metadata": {},
     "output_type": "execute_result"
    }
   ],
   "source": [
    "#Посмотрим на типы загрязнения:\n",
    "pollution_raw['Параметр: код'].unique()"
   ]
  },
  {
   "cell_type": "markdown",
   "metadata": {},
   "source": [
    "Видим, что в сэте представленны только 3 вида загрязнения. Поэтому ПДК и единицы измерения можно записать  в само название \n",
    "колонки загрязнителя.<br>\n",
    "**TPHs** - total petroleum hydrocarbons<br>\n",
    "**СПАВ** - синтетические поверхностно активные вещества<br>\n",
    "**Фенолы** - производные ароматических углеводородов"
   ]
  },
  {
   "cell_type": "markdown",
   "metadata": {},
   "source": [
    "Удаляем малоинформативные колонки:"
   ]
  },
  {
   "cell_type": "code",
   "execution_count": 7,
   "metadata": {},
   "outputs": [],
   "source": [
    "pollution_raw = pollution_raw.drop(['Единица данных: идентификатор','Единица данных: количество','Геообъект: код',\\\n",
    "                'Параметр: значение (max)', 'Параметр: значение (min)', 'Долгота точки (град., дес.доли град)',\\\n",
    "              'Широта точки (град., дес.доли град)', 'Единица измерения', 'Показатель' ], axis=1)"
   ]
  },
  {
   "cell_type": "code",
   "execution_count": 8,
   "metadata": {},
   "outputs": [
    {
     "data": {
      "text/html": [
       "<div>\n",
       "<style scoped>\n",
       "    .dataframe tbody tr th:only-of-type {\n",
       "        vertical-align: middle;\n",
       "    }\n",
       "\n",
       "    .dataframe tbody tr th {\n",
       "        vertical-align: top;\n",
       "    }\n",
       "\n",
       "    .dataframe thead th {\n",
       "        text-align: right;\n",
       "    }\n",
       "</style>\n",
       "<table border=\"1\" class=\"dataframe\">\n",
       "  <thead>\n",
       "    <tr style=\"text-align: right;\">\n",
       "      <th></th>\n",
       "      <th>Описание</th>\n",
       "      <th>Геообъект: идентификатор</th>\n",
       "      <th>Геообъект: название</th>\n",
       "      <th>Параметр: код</th>\n",
       "      <th>Параметр: значение</th>\n",
       "      <th>Год</th>\n",
       "    </tr>\n",
       "  </thead>\n",
       "  <tbody>\n",
       "    <tr>\n",
       "      <th>0</th>\n",
       "      <td>Панагия-Кубань</td>\n",
       "      <td>1508</td>\n",
       "      <td>Азовское море</td>\n",
       "      <td>TPHs</td>\n",
       "      <td>0.1624</td>\n",
       "      <td>1995</td>\n",
       "    </tr>\n",
       "    <tr>\n",
       "      <th>1</th>\n",
       "      <td>Панагия-Кубань</td>\n",
       "      <td>1508</td>\n",
       "      <td>Азовское море</td>\n",
       "      <td>СПАВ</td>\n",
       "      <td>31.9902</td>\n",
       "      <td>1995</td>\n",
       "    </tr>\n",
       "    <tr>\n",
       "      <th>2</th>\n",
       "      <td>Панагия-Кубань</td>\n",
       "      <td>1508</td>\n",
       "      <td>Азовское море</td>\n",
       "      <td>TPHs</td>\n",
       "      <td>0.1653</td>\n",
       "      <td>1997</td>\n",
       "    </tr>\n",
       "    <tr>\n",
       "      <th>3</th>\n",
       "      <td>Панагия-Кубань</td>\n",
       "      <td>1508</td>\n",
       "      <td>Азовское море</td>\n",
       "      <td>СПАВ</td>\n",
       "      <td>43.9145</td>\n",
       "      <td>1997</td>\n",
       "    </tr>\n",
       "    <tr>\n",
       "      <th>4</th>\n",
       "      <td>Панагия-Кубань</td>\n",
       "      <td>1508</td>\n",
       "      <td>Азовское море</td>\n",
       "      <td>TPHs</td>\n",
       "      <td>0.0432</td>\n",
       "      <td>1998</td>\n",
       "    </tr>\n",
       "  </tbody>\n",
       "</table>\n",
       "</div>"
      ],
      "text/plain": [
       "         Описание  Геообъект: идентификатор Геообъект: название Параметр: код  \\\n",
       "0  Панагия-Кубань                      1508       Азовское море          TPHs   \n",
       "1  Панагия-Кубань                      1508       Азовское море          СПАВ   \n",
       "2  Панагия-Кубань                      1508       Азовское море          TPHs   \n",
       "3  Панагия-Кубань                      1508       Азовское море          СПАВ   \n",
       "4  Панагия-Кубань                      1508       Азовское море          TPHs   \n",
       "\n",
       "   Параметр: значение   Год  \n",
       "0              0.1624  1995  \n",
       "1             31.9902  1995  \n",
       "2              0.1653  1997  \n",
       "3             43.9145  1997  \n",
       "4              0.0432  1998  "
      ]
     },
     "execution_count": 8,
     "metadata": {},
     "output_type": "execute_result"
    }
   ],
   "source": [
    "#Посмотрим на результат удаления\n",
    "pollution_raw.head()"
   ]
  },
  {
   "cell_type": "markdown",
   "metadata": {},
   "source": [
    "Для более удобного анализа и визуализации разделим колонку **Параметр: код** на три колонки по типу загрязнения:"
   ]
  },
  {
   "cell_type": "code",
   "execution_count": 9,
   "metadata": {},
   "outputs": [
    {
     "data": {
      "text/html": [
       "<div>\n",
       "<style scoped>\n",
       "    .dataframe tbody tr th:only-of-type {\n",
       "        vertical-align: middle;\n",
       "    }\n",
       "\n",
       "    .dataframe tbody tr th {\n",
       "        vertical-align: top;\n",
       "    }\n",
       "\n",
       "    .dataframe thead th {\n",
       "        text-align: right;\n",
       "    }\n",
       "</style>\n",
       "<table border=\"1\" class=\"dataframe\">\n",
       "  <thead>\n",
       "    <tr style=\"text-align: right;\">\n",
       "      <th></th>\n",
       "      <th></th>\n",
       "      <th></th>\n",
       "      <th>Параметр: код</th>\n",
       "      <th>TPHs</th>\n",
       "      <th>СПАВ</th>\n",
       "      <th>Фенолы</th>\n",
       "    </tr>\n",
       "    <tr>\n",
       "      <th>Геообъект: название</th>\n",
       "      <th>Описание</th>\n",
       "      <th>Год</th>\n",
       "      <th>Геообъект: идентификатор</th>\n",
       "      <th></th>\n",
       "      <th></th>\n",
       "      <th></th>\n",
       "    </tr>\n",
       "  </thead>\n",
       "  <tbody>\n",
       "    <tr>\n",
       "      <th rowspan=\"3\" valign=\"top\">Каспийское море</th>\n",
       "      <th>Терек</th>\n",
       "      <th>1997</th>\n",
       "      <th>3502</th>\n",
       "      <td>0.1464</td>\n",
       "      <td>NaN</td>\n",
       "      <td>0.0095</td>\n",
       "    </tr>\n",
       "    <tr>\n",
       "      <th>Махачкала</th>\n",
       "      <th>2009</th>\n",
       "      <th>3504</th>\n",
       "      <td>0.0579</td>\n",
       "      <td>0.0041</td>\n",
       "      <td>0.0035</td>\n",
       "    </tr>\n",
       "    <tr>\n",
       "      <th>Сулак</th>\n",
       "      <th>2006</th>\n",
       "      <th>3503</th>\n",
       "      <td>0.0413</td>\n",
       "      <td>NaN</td>\n",
       "      <td>0.0030</td>\n",
       "    </tr>\n",
       "    <tr>\n",
       "      <th>Чёрное море</th>\n",
       "      <th>Панагия-Кубань</th>\n",
       "      <th>2013</th>\n",
       "      <th>1508</th>\n",
       "      <td>0.0395</td>\n",
       "      <td>10.3094</td>\n",
       "      <td>NaN</td>\n",
       "    </tr>\n",
       "    <tr>\n",
       "      <th>Белое море</th>\n",
       "      <th>Двинский залив</th>\n",
       "      <th>1998</th>\n",
       "      <th>5101</th>\n",
       "      <td>0.0183</td>\n",
       "      <td>NaN</td>\n",
       "      <td>NaN</td>\n",
       "    </tr>\n",
       "  </tbody>\n",
       "</table>\n",
       "</div>"
      ],
      "text/plain": [
       "Параметр: код                                                       TPHs  \\\n",
       "Геообъект: название Описание       Год  Геообъект: идентификатор           \n",
       "Каспийское море     Терек          1997 3502                      0.1464   \n",
       "                    Махачкала      2009 3504                      0.0579   \n",
       "                    Сулак          2006 3503                      0.0413   \n",
       "Чёрное море         Панагия-Кубань 2013 1508                      0.0395   \n",
       "Белое море          Двинский залив 1998 5101                      0.0183   \n",
       "\n",
       "Параметр: код                                                        СПАВ  \\\n",
       "Геообъект: название Описание       Год  Геообъект: идентификатор            \n",
       "Каспийское море     Терек          1997 3502                          NaN   \n",
       "                    Махачкала      2009 3504                       0.0041   \n",
       "                    Сулак          2006 3503                          NaN   \n",
       "Чёрное море         Панагия-Кубань 2013 1508                      10.3094   \n",
       "Белое море          Двинский залив 1998 5101                          NaN   \n",
       "\n",
       "Параметр: код                                                     Фенолы  \n",
       "Геообъект: название Описание       Год  Геообъект: идентификатор          \n",
       "Каспийское море     Терек          1997 3502                      0.0095  \n",
       "                    Махачкала      2009 3504                      0.0035  \n",
       "                    Сулак          2006 3503                      0.0030  \n",
       "Чёрное море         Панагия-Кубань 2013 1508                         NaN  \n",
       "Белое море          Двинский залив 1998 5101                         NaN  "
      ]
     },
     "execution_count": 9,
     "metadata": {},
     "output_type": "execute_result"
    }
   ],
   "source": [
    "pollution = pollution_raw.pivot_table(index=['Геообъект: название','Описание','Год','Геообъект: идентификатор'], \\\n",
    "                                      columns='Параметр: код', values='Параметр: значение')\n",
    "pollution.sample(5)"
   ]
  },
  {
   "cell_type": "code",
   "execution_count": 10,
   "metadata": {},
   "outputs": [],
   "source": [
    "#После решейпа таблицы 4 колонки оказались индексами, сбросим их\n",
    "pollution=pollution.reset_index()"
   ]
  },
  {
   "cell_type": "markdown",
   "metadata": {},
   "source": [
    "Переименуем названия колонок в более понятные для обычного пользователя, а также не забываем занести ПДК и единицы измерения в название\n",
    "самих колонок с типом загрязнения"
   ]
  },
  {
   "cell_type": "code",
   "execution_count": 11,
   "metadata": {},
   "outputs": [],
   "source": [
    "pollution = pollution.rename(columns={'Геообъект: название': 'Море', \\\n",
    "                            'Описание':'Участок', 'Геообъект: идентификатор':'id Участка',\\\n",
    "                            'TPHs': 'TPHs,мг/л(0.05)','СПАВ':'СПАВ,мкг/л(100.00)','Фенолы': 'Фенолы,мкг/л(1.00)' })"
   ]
  },
  {
   "cell_type": "code",
   "execution_count": 12,
   "metadata": {},
   "outputs": [
    {
     "data": {
      "text/html": [
       "<div>\n",
       "<style scoped>\n",
       "    .dataframe tbody tr th:only-of-type {\n",
       "        vertical-align: middle;\n",
       "    }\n",
       "\n",
       "    .dataframe tbody tr th {\n",
       "        vertical-align: top;\n",
       "    }\n",
       "\n",
       "    .dataframe thead th {\n",
       "        text-align: right;\n",
       "    }\n",
       "</style>\n",
       "<table border=\"1\" class=\"dataframe\">\n",
       "  <thead>\n",
       "    <tr style=\"text-align: right;\">\n",
       "      <th></th>\n",
       "      <th>Море</th>\n",
       "      <th>Участок</th>\n",
       "      <th>Год</th>\n",
       "      <th>id Участка</th>\n",
       "      <th>TPHs,мг/л(0.05)</th>\n",
       "      <th>СПАВ,мкг/л(100.00)</th>\n",
       "      <th>Фенолы,мкг/л(1.00)</th>\n",
       "    </tr>\n",
       "  </thead>\n",
       "  <tbody>\n",
       "    <tr>\n",
       "      <th>0</th>\n",
       "      <td>Азовское море</td>\n",
       "      <td>Панагия-Кубань</td>\n",
       "      <td>1995</td>\n",
       "      <td>1508</td>\n",
       "      <td>0.1624</td>\n",
       "      <td>31.9902</td>\n",
       "      <td>NaN</td>\n",
       "    </tr>\n",
       "    <tr>\n",
       "      <th>1</th>\n",
       "      <td>Азовское море</td>\n",
       "      <td>Панагия-Кубань</td>\n",
       "      <td>1997</td>\n",
       "      <td>1508</td>\n",
       "      <td>0.1653</td>\n",
       "      <td>43.9145</td>\n",
       "      <td>NaN</td>\n",
       "    </tr>\n",
       "    <tr>\n",
       "      <th>2</th>\n",
       "      <td>Азовское море</td>\n",
       "      <td>Панагия-Кубань</td>\n",
       "      <td>1998</td>\n",
       "      <td>1508</td>\n",
       "      <td>0.0432</td>\n",
       "      <td>36.8358</td>\n",
       "      <td>NaN</td>\n",
       "    </tr>\n",
       "    <tr>\n",
       "      <th>3</th>\n",
       "      <td>Азовское море</td>\n",
       "      <td>Панагия-Кубань</td>\n",
       "      <td>2000</td>\n",
       "      <td>1508</td>\n",
       "      <td>0.0232</td>\n",
       "      <td>25.9811</td>\n",
       "      <td>NaN</td>\n",
       "    </tr>\n",
       "    <tr>\n",
       "      <th>4</th>\n",
       "      <td>Азовское море</td>\n",
       "      <td>Панагия-Кубань</td>\n",
       "      <td>2002</td>\n",
       "      <td>1508</td>\n",
       "      <td>0.0226</td>\n",
       "      <td>65.8302</td>\n",
       "      <td>NaN</td>\n",
       "    </tr>\n",
       "  </tbody>\n",
       "</table>\n",
       "</div>"
      ],
      "text/plain": [
       "            Море         Участок   Год  id Участка  TPHs,мг/л(0.05)  \\\n",
       "0  Азовское море  Панагия-Кубань  1995        1508           0.1624   \n",
       "1  Азовское море  Панагия-Кубань  1997        1508           0.1653   \n",
       "2  Азовское море  Панагия-Кубань  1998        1508           0.0432   \n",
       "3  Азовское море  Панагия-Кубань  2000        1508           0.0232   \n",
       "4  Азовское море  Панагия-Кубань  2002        1508           0.0226   \n",
       "\n",
       "   СПАВ,мкг/л(100.00)  Фенолы,мкг/л(1.00)  \n",
       "0             31.9902                 NaN  \n",
       "1             43.9145                 NaN  \n",
       "2             36.8358                 NaN  \n",
       "3             25.9811                 NaN  \n",
       "4             65.8302                 NaN  "
      ]
     },
     "execution_count": 12,
     "metadata": {},
     "output_type": "execute_result"
    }
   ],
   "source": [
    "#также удаляем название над индексом\n",
    "pollution = pollution.rename_axis(None, axis=1)\n",
    "#и посмотрим на наши данные\n",
    "pollution.head()"
   ]
  },
  {
   "cell_type": "code",
   "execution_count": 13,
   "metadata": {},
   "outputs": [
    {
     "data": {
      "text/plain": [
       "(346, 7)"
      ]
     },
     "execution_count": 13,
     "metadata": {},
     "output_type": "execute_result"
    }
   ],
   "source": [
    "#после всех преобразований сет имеет форму\n",
    "pollution.shape"
   ]
  },
  {
   "cell_type": "markdown",
   "metadata": {},
   "source": [
    "Теперь после преобразований, посмотрим на некоторые особенности данных, через визуализацию.\n",
    "Сравним между собой средний показатель одного из загрязнений для всех морей по каждому году:\n"
   ]
  },
  {
   "cell_type": "code",
   "execution_count": 14,
   "metadata": {},
   "outputs": [
    {
     "data": {
      "image/png": "[encoded data removed]",
      "text/plain": [
       "<Figure size 720x720 with 4 Axes>"
      ]
     },
     "metadata": {
      "needs_background": "light"
     },
     "output_type": "display_data"
    }
   ],
   "source": [
    "#для этого отфильтруем сэт по названию моря и сгруппируем по году\n",
    "f,axes = plt.subplots(2,2,figsize=(10,10))\n",
    "plt.subplots_adjust(top=0.92, bottom=0.08, left=0.10, right=0.95, hspace=0.25,\n",
    "                    wspace=0.35)\n",
    "for sea, color,cor in zip(['Азовское море', 'Каспийское море','Чёрное море','Белое море'],\\\n",
    "                          ['r','g','b','m'],[(0,0),(0,1),(1,0),(1,1)]):\n",
    "    pollution[pollution['Море']==sea].groupby('Год').agg({'TPHs,мг/л(0.05)':'mean'}).\\\n",
    "    plot.bar(color=color, grid=True,ax=axes[cor],title=sea)"
   ]
  },
  {
   "cell_type": "markdown",
   "metadata": {},
   "source": [
    "Как видно, для большинства морей характерно высокое значение загрязнения(выше ПДК) для 90х годов и снижение к началу 2010х\n",
    "Меньше всего уровень загрязнения наблюдается в Черном море, и больше всего в Каспийском море\n",
    "Однако если мы посмотрим на среднее значение по кадому морю в целом:"
   ]
  },
  {
   "cell_type": "code",
   "execution_count": 15,
   "metadata": {},
   "outputs": [
    {
     "data": {
      "image/png": "[encoded data removed]",
      "text/plain": [
       "<Figure size 432x288 with 1 Axes>"
      ]
     },
     "metadata": {
      "needs_background": "light"
     },
     "output_type": "display_data"
    },
    {
     "data": {
      "text/plain": [
       "<Figure size 720x720 with 0 Axes>"
      ]
     },
     "metadata": {},
     "output_type": "display_data"
    }
   ],
   "source": [
    "pollution.groupby('Море').agg({'TPHs,мг/л(0.05)':'mean'}).plot.bar(grid=True)\n",
    "plt.ylabel('Уровень')\n",
    "plt.xlabel('Море')\n",
    "plt.title('средний TPHs')\n",
    "plt.figure(figsize=(10,10))\n",
    "plt.show()"
   ]
  },
  {
   "cell_type": "markdown",
   "metadata": {},
   "source": [
    "То увидим, что средний уровень за весь период в Азовском море выше чем в Каспийском, что можно объяснить большими выбросами\n",
    "в среднем значении Азовского моря в 2004 и 2005 годах.<br>\n",
    "С другой можно сравнить показатели загрязнений всех участков определенного моря:"
   ]
  },
  {
   "cell_type": "code",
   "execution_count": 16,
   "metadata": {},
   "outputs": [
    {
     "data": {
      "image/png": "[encoded data removed]",
      "text/plain": [
       "<Figure size 432x288 with 1 Axes>"
      ]
     },
     "metadata": {
      "needs_background": "light"
     },
     "output_type": "display_data"
    },
    {
     "data": {
      "text/plain": [
       "<Figure size 720x720 with 0 Axes>"
      ]
     },
     "metadata": {},
     "output_type": "display_data"
    }
   ],
   "source": [
    "#сравним показатели для Каспийского моря:\n",
    "pollution[pollution['Море']=='Каспийское море'].groupby('Участок').agg({'СПАВ,мкг/л(100.00)':'mean','TPHs,мг/л(0.05)':'mean'}).plot.barh(grid=True)\n",
    "plt.ylabel('Участок')\n",
    "plt.xlabel('Уровень')\n",
    "plt.title('TPHs vs СПАВ')\n",
    "plt.figure(figsize=(10,10))\n",
    "plt.show()"
   ]
  },
  {
   "cell_type": "markdown",
   "metadata": {},
   "source": [
    "Средний уровень загрязнения **TPHs** для всех участков приблизительно одиноково высокий, в то время как уровень **СПАВ** достаточно\n",
    "низкий(намного ниже ПДК)"
   ]
  },
  {
   "cell_type": "code",
   "execution_count": 18,
   "metadata": {},
   "outputs": [],
   "source": [
    "pollution.to_csv('pollution_clean.csv')"
   ]
  },
  {
   "cell_type": "code",
   "execution_count": null,
   "metadata": {},
   "outputs": [],
   "source": []
  }
 ],
 "metadata": {
  "kernelspec": {
   "display_name": "Python 3",
   "language": "python",
   "name": "python3"
  },
  "language_info": {
   "codemirror_mode": {
    "name": "ipython",
    "version": 3
   },
   "file_extension": ".py",
   "mimetype": "text/x-python",
   "name": "python",
   "nbconvert_exporter": "python",
   "pygments_lexer": "ipython3",
   "version": "3.7.3"
  }
 },
 "nbformat": 4,
 "nbformat_minor": 2
}
