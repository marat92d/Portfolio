{
 "cells": [
  {
   "cell_type": "markdown",
   "metadata": {},
   "source": [
    "# Очистка и визуализация данных"
   ]
  },
  {
   "cell_type": "markdown",
   "metadata": {},
   "source": [
    "## Реестр прокатных удостоверений фильмов"
   ]
  },
  {
   "cell_type": "markdown",
   "metadata": {},
   "source": [
    "Целью данного блокнота является очистка и подготовка данных Государственного регистра фильмов\n",
    ", взятых с открытой базы данных сайта Министерства культуры РФ 'https://opendata.mkrf.ru/opendata'\n",
    "\n",
    "Государственный регистр фильмов — база данных, содержащая информацию о фильмах, получивших прокатные удостоверения. \n",
    "Позволяет найти фильм по различных критериям, узнать номер прокатного удостоверения"
   ]
  },
  {
   "cell_type": "markdown",
   "metadata": {},
   "source": [
    "Начнем с импортирования основых модулей для работы и посмотрим на данный csv файл"
   ]
  },
  {
   "cell_type": "code",
   "execution_count": 1,
   "metadata": {},
   "outputs": [],
   "source": [
    "import pandas as pd\n",
    "import matplotlib.pyplot as plt\n",
    "import seaborn as sns\n",
    "import numpy as np\n",
    "%matplotlib inline"
   ]
  },
  {
   "cell_type": "code",
   "execution_count": 3,
   "metadata": {},
   "outputs": [
    {
     "name": "stderr",
     "output_type": "stream",
     "text": [
      "C:\\Users\\Marat\\AppData\\Local\\Continuum\\anaconda3\\lib\\site-packages\\IPython\\core\\interactiveshell.py:3058: DtypeWarning: Columns (1,2,3,4,5,6,7,8,9,10,11,12,13,14,15,16,17,18,19,20,21,22,23,24,25,26,27,28,29,30,31,32,33,34,35,36,37,38,39,40,41,42,44,46,47) have mixed types. Specify dtype option on import or set low_memory=False.\n",
      "  interactivity=interactivity, compiler=compiler, result=result)\n"
     ]
    },
    {
     "name": "stdout",
     "output_type": "stream",
     "text": [
      "(377230, 48)\n"
     ]
    }
   ],
   "source": [
    "films_raw = pd.read_csv('films.csv')\n",
    "print(films_raw.shape)"
   ]
  },
  {
   "cell_type": "markdown",
   "metadata": {},
   "source": [
    "Как видно датесэт имеет 48 колонок и 377230 строк.Посмотрим на сэмпл из пяти строк"
   ]
  },
  {
   "cell_type": "code",
   "execution_count": 4,
   "metadata": {},
   "outputs": [
    {
     "data": {
      "text/html": [
       "<div>\n",
       "<style scoped>\n",
       "    .dataframe tbody tr th:only-of-type {\n",
       "        vertical-align: middle;\n",
       "    }\n",
       "\n",
       "    .dataframe tbody tr th {\n",
       "        vertical-align: top;\n",
       "    }\n",
       "\n",
       "    .dataframe thead th {\n",
       "        text-align: right;\n",
       "    }\n",
       "</style>\n",
       "<table border=\"1\" class=\"dataframe\">\n",
       "  <thead>\n",
       "    <tr style=\"text-align: right;\">\n",
       "      <th></th>\n",
       "      <th>Название фильма</th>\n",
       "      <th>Hаименование на иностранном языке</th>\n",
       "      <th>Номер удостоверения</th>\n",
       "      <th>Дата регистрации удостоверения</th>\n",
       "      <th>Дата начала показа фильма</th>\n",
       "      <th>Примечание</th>\n",
       "      <th>Идентификатор записи реестра</th>\n",
       "      <th>Аннотация</th>\n",
       "      <th>Вид Фильма</th>\n",
       "      <th>Категория</th>\n",
       "      <th>...</th>\n",
       "      <th>Код</th>\n",
       "      <th>Права проката переданы</th>\n",
       "      <th>Порядковый номер переоформления/продления</th>\n",
       "      <th>Должность подписанта</th>\n",
       "      <th>ФИО подписанта</th>\n",
       "      <th>Запись удалена</th>\n",
       "      <th>Дата удаления записи</th>\n",
       "      <th>Не показывать на сайте mkrf.ru</th>\n",
       "      <th>дата создания объекта</th>\n",
       "      <th>дата обновления объекта</th>\n",
       "    </tr>\n",
       "  </thead>\n",
       "  <tbody>\n",
       "    <tr>\n",
       "      <td>73374</td>\n",
       "      <td></td>\n",
       "      <td>NaN</td>\n",
       "      <td>NaN</td>\n",
       "      <td>NaN</td>\n",
       "      <td>NaN</td>\n",
       "      <td>NaN</td>\n",
       "      <td>NaN</td>\n",
       "      <td>NaN</td>\n",
       "      <td>NaN</td>\n",
       "      <td>NaN</td>\n",
       "      <td>...</td>\n",
       "      <td>NaN</td>\n",
       "      <td>NaN</td>\n",
       "      <td>NaN</td>\n",
       "      <td>NaN</td>\n",
       "      <td>NaN</td>\n",
       "      <td>NaN</td>\n",
       "      <td>NaN</td>\n",
       "      <td>NaN</td>\n",
       "      <td>NaN</td>\n",
       "      <td>NaN</td>\n",
       "    </tr>\n",
       "    <tr>\n",
       "      <td>318988</td>\n",
       "      <td>МУЛЬТИПЕЛКИ, выпуск № 1</td>\n",
       "      <td>NaN</td>\n",
       "      <td>214015017</td>\n",
       "      <td>2017-10-13T12:00:00.000Z</td>\n",
       "      <td>2017-10-13T12:00:00.000Z</td>\n",
       "      <td>NaN</td>\n",
       "      <td>2.41616e+06</td>\n",
       "      <td>Анимация для детей</td>\n",
       "      <td>NaN</td>\n",
       "      <td>NaN</td>\n",
       "      <td>...</td>\n",
       "      <td>NaN</td>\n",
       "      <td>NaN</td>\n",
       "      <td>NaN</td>\n",
       "      <td>NaN</td>\n",
       "      <td>NaN</td>\n",
       "      <td>NaN</td>\n",
       "      <td>NaN</td>\n",
       "      <td>NaN</td>\n",
       "      <td>NaN</td>\n",
       "      <td>NaN</td>\n",
       "    </tr>\n",
       "    <tr>\n",
       "      <td>141976</td>\n",
       "      <td>Салют, Олимпиада!</td>\n",
       "      <td>NaN</td>\n",
       "      <td>214011709</td>\n",
       "      <td>2009-05-28T12:00:00.000Z</td>\n",
       "      <td>2009-05-28T12:00:00.000Z</td>\n",
       "      <td>NaN</td>\n",
       "      <td>NaN</td>\n",
       "      <td>NaN</td>\n",
       "      <td>NaN</td>\n",
       "      <td>NaN</td>\n",
       "      <td>...</td>\n",
       "      <td>NaN</td>\n",
       "      <td>NaN</td>\n",
       "      <td>NaN</td>\n",
       "      <td>NaN</td>\n",
       "      <td>NaN</td>\n",
       "      <td>NaN</td>\n",
       "      <td>NaN</td>\n",
       "      <td>NaN</td>\n",
       "      <td>NaN</td>\n",
       "      <td>NaN</td>\n",
       "    </tr>\n",
       "    <tr>\n",
       "      <td>231916</td>\n",
       "      <td></td>\n",
       "      <td>NaN</td>\n",
       "      <td>NaN</td>\n",
       "      <td>NaN</td>\n",
       "      <td>NaN</td>\n",
       "      <td>NaN</td>\n",
       "      <td>NaN</td>\n",
       "      <td>NaN</td>\n",
       "      <td>NaN</td>\n",
       "      <td>NaN</td>\n",
       "      <td>...</td>\n",
       "      <td>NaN</td>\n",
       "      <td>NaN</td>\n",
       "      <td>NaN</td>\n",
       "      <td>NaN</td>\n",
       "      <td>NaN</td>\n",
       "      <td>NaN</td>\n",
       "      <td>NaN</td>\n",
       "      <td>NaN</td>\n",
       "      <td>NaN</td>\n",
       "      <td>NaN</td>\n",
       "    </tr>\n",
       "    <tr>\n",
       "      <td>18348</td>\n",
       "      <td>До суда (1-371 серии)</td>\n",
       "      <td>NaN</td>\n",
       "      <td>211047712</td>\n",
       "      <td>2012-12-18T12:00:00.000Z</td>\n",
       "      <td>2012-12-18T12:00:00.000Z</td>\n",
       "      <td>Арест имущества должника - ООО «Кинопром». Пос...</td>\n",
       "      <td>NaN</td>\n",
       "      <td>NaN</td>\n",
       "      <td>NaN</td>\n",
       "      <td>NaN</td>\n",
       "      <td>...</td>\n",
       "      <td>NaN</td>\n",
       "      <td>NaN</td>\n",
       "      <td>NaN</td>\n",
       "      <td>NaN</td>\n",
       "      <td>NaN</td>\n",
       "      <td>NaN</td>\n",
       "      <td>NaN</td>\n",
       "      <td>NaN</td>\n",
       "      <td>NaN</td>\n",
       "      <td>NaN</td>\n",
       "    </tr>\n",
       "  </tbody>\n",
       "</table>\n",
       "<p>5 rows × 48 columns</p>\n",
       "</div>"
      ],
      "text/plain": [
       "                Название фильма Hаименование на иностранном языке  \\\n",
       "73374                                                         NaN   \n",
       "318988  МУЛЬТИПЕЛКИ, выпуск № 1                               NaN   \n",
       "141976        Салют, Олимпиада!                               NaN   \n",
       "231916                                                        NaN   \n",
       "18348     До суда (1-371 серии)                               NaN   \n",
       "\n",
       "       Номер удостоверения Дата регистрации удостоверения  \\\n",
       "73374                  NaN                            NaN   \n",
       "318988           214015017       2017-10-13T12:00:00.000Z   \n",
       "141976           214011709       2009-05-28T12:00:00.000Z   \n",
       "231916                 NaN                            NaN   \n",
       "18348            211047712       2012-12-18T12:00:00.000Z   \n",
       "\n",
       "       Дата начала показа фильма  \\\n",
       "73374                        NaN   \n",
       "318988  2017-10-13T12:00:00.000Z   \n",
       "141976  2009-05-28T12:00:00.000Z   \n",
       "231916                       NaN   \n",
       "18348   2012-12-18T12:00:00.000Z   \n",
       "\n",
       "                                               Примечание  \\\n",
       "73374                                                 NaN   \n",
       "318988                                                NaN   \n",
       "141976                                                NaN   \n",
       "231916                                                NaN   \n",
       "18348   Арест имущества должника - ООО «Кинопром». Пос...   \n",
       "\n",
       "       Идентификатор записи реестра           Аннотация Вид Фильма Категория  \\\n",
       "73374                           NaN                 NaN        NaN       NaN   \n",
       "318988                  2.41616e+06  Анимация для детей        NaN       NaN   \n",
       "141976                          NaN                 NaN        NaN       NaN   \n",
       "231916                          NaN                 NaN        NaN       NaN   \n",
       "18348                           NaN                 NaN        NaN       NaN   \n",
       "\n",
       "        ...  Код Права проката переданы  \\\n",
       "73374   ...  NaN                    NaN   \n",
       "318988  ...  NaN                    NaN   \n",
       "141976  ...  NaN                    NaN   \n",
       "231916  ...  NaN                    NaN   \n",
       "18348   ...  NaN                    NaN   \n",
       "\n",
       "       Порядковый номер переоформления/продления Должность подписанта  \\\n",
       "73374                                        NaN                  NaN   \n",
       "318988                                       NaN                  NaN   \n",
       "141976                                       NaN                  NaN   \n",
       "231916                                       NaN                  NaN   \n",
       "18348                                        NaN                  NaN   \n",
       "\n",
       "       ФИО подписанта Запись удалена Дата удаления записи  \\\n",
       "73374             NaN            NaN                  NaN   \n",
       "318988            NaN            NaN                  NaN   \n",
       "141976            NaN            NaN                  NaN   \n",
       "231916            NaN            NaN                  NaN   \n",
       "18348             NaN            NaN                  NaN   \n",
       "\n",
       "       Не показывать на сайте mkrf.ru дата создания объекта  \\\n",
       "73374                             NaN                   NaN   \n",
       "318988                            NaN                   NaN   \n",
       "141976                            NaN                   NaN   \n",
       "231916                            NaN                   NaN   \n",
       "18348                             NaN                   NaN   \n",
       "\n",
       "       дата обновления объекта  \n",
       "73374                      NaN  \n",
       "318988                     NaN  \n",
       "141976                     NaN  \n",
       "231916                     NaN  \n",
       "18348                      NaN  \n",
       "\n",
       "[5 rows x 48 columns]"
      ]
     },
     "execution_count": 4,
     "metadata": {},
     "output_type": "execute_result"
    }
   ],
   "source": [
    "films_raw.sample(5)"
   ]
  },
  {
   "cell_type": "code",
   "execution_count": 5,
   "metadata": {},
   "outputs": [
    {
     "data": {
      "text/plain": [
       "Index(['Название фильма', 'Hаименование на иностранном языке',\n",
       "       'Номер удостоверения', 'Дата регистрации удостоверения',\n",
       "       'Дата начала показа фильма', 'Примечание',\n",
       "       'Идентификатор записи реестра', 'Аннотация', 'Вид Фильма', 'Категория',\n",
       "       'Язык оригинала', 'Формат кадра', 'Количество серий',\n",
       "       'Метраж (для фильмов на кинопленке)',\n",
       "       'Количество частей/рулонов (для фильмов на кинопленке)', 'Цвет',\n",
       "       'Продолжительность демонстрации, часы',\n",
       "       'Продолжительность демонстрации, минуты', 'Формат носителя',\n",
       "       'Объем носителя', 'Единица измерения', 'Студия-производитель',\n",
       "       'Страна производства', 'Год производства', 'Режиссер', 'Художник',\n",
       "       'Сценарист', 'Оператор', 'Композитор', 'Продюсер',\n",
       "       'Права на использование фильма',\n",
       "       'Категория прав на использование фильма',\n",
       "       'Срок действия прав на использование фильма',\n",
       "       'Срок действия прав на способ использования фильма',\n",
       "       'Возрастная категория', 'Возрастная категория.1',\n",
       "       'Дубляж (где дублирован)', 'Срок действия прав проката до', 'Код',\n",
       "       'Права проката переданы', 'Порядковый номер переоформления/продления',\n",
       "       'Должность подписанта', 'ФИО подписанта', 'Запись удалена',\n",
       "       'Дата удаления записи', 'Не показывать на сайте mkrf.ru',\n",
       "       'дата создания объекта', 'дата обновления объекта'],\n",
       "      dtype='object')"
      ]
     },
     "execution_count": 5,
     "metadata": {},
     "output_type": "execute_result"
    }
   ],
   "source": [
    "#Посмотрим на название серий в сэте\n",
    "films_raw.columns"
   ]
  },
  {
   "cell_type": "code",
   "execution_count": 6,
   "metadata": {},
   "outputs": [
    {
     "data": {
      "text/plain": [
       "<matplotlib.axes._subplots.AxesSubplot at 0x2d195cdc208>"
      ]
     },
     "execution_count": 6,
     "metadata": {},
     "output_type": "execute_result"
    },
    {
     "data": {
      "image/png": "[encoded data removed]",
      "text/plain": [
       "<Figure size 432x288 with 1 Axes>"
      ]
     },
     "metadata": {
      "needs_background": "light"
     },
     "output_type": "display_data"
    }
   ],
   "source": [
    "#Визуализируем наличиеfilms_raw недостающих данных\n",
    "sns.heatmap(films_raw.isnull(), cbar=False)"
   ]
  },
  {
   "cell_type": "markdown",
   "metadata": {},
   "source": [
    "Так как сет является довольно объемным для понимания и имеет большое количество малоинформативных колонок и пропущенных данных,\n",
    "то имеет смысл отобрать фильмы за несколько последних лет и удалить ненужные колонки"
   ]
  },
  {
   "cell_type": "code",
   "execution_count": 7,
   "metadata": {},
   "outputs": [],
   "source": [
    "#отберем фильмы за последние 3 года и только те котырые относятся к категории 'Кино'\n",
    "films = films_raw[films_raw['Год производства'].isin(['2017','2018','2019'])]\n",
    "films = films[films['Категория']=='Кино']"
   ]
  },
  {
   "cell_type": "code",
   "execution_count": 8,
   "metadata": {},
   "outputs": [
    {
     "data": {
      "text/plain": [
       "Название фильма                                             0\n",
       "Hаименование на иностранном языке                        1098\n",
       "Номер удостоверения                                         0\n",
       "Дата регистрации удостоверения                              0\n",
       "Дата начала показа фильма                                  14\n",
       "Примечание                                               1845\n",
       "Идентификатор записи реестра                                0\n",
       "Аннотация                                                  25\n",
       "Вид Фильма                                                  0\n",
       "Категория                                                   0\n",
       "Язык оригинала                                           1984\n",
       "Формат кадра                                             1728\n",
       "Количество серий                                         1059\n",
       "Метраж (для фильмов на кинопленке)                       1879\n",
       "Количество частей/рулонов (для фильмов на кинопленке)    1880\n",
       "Цвет                                                        1\n",
       "Продолжительность демонстрации, часы                       90\n",
       "Продолжительность демонстрации, минуты                      9\n",
       "Формат носителя                                           162\n",
       "Объем носителя                                            554\n",
       "Единица измерения                                         558\n",
       "Студия-производитель                                       16\n",
       "Страна производства                                         0\n",
       "Год производства                                            0\n",
       "Режиссер                                                    0\n",
       "Художник                                                  445\n",
       "Сценарист                                                  29\n",
       "Оператор                                                  300\n",
       "Композитор                                                392\n",
       "Продюсер                                                   27\n",
       "Права на использование фильма                               0\n",
       "Категория прав на использование фильма                     19\n",
       "Срок действия прав на использование фильма               1986\n",
       "Срок действия прав на способ использования фильма           0\n",
       "Возрастная категория                                        0\n",
       "Возрастная категория.1                                      0\n",
       "Дубляж (где дублирован)                                  1986\n",
       "Срок действия прав проката до                            1973\n",
       "Код                                                         0\n",
       "Права проката переданы                                   1936\n",
       "Порядковый номер переоформления/продления                1986\n",
       "Должность подписанта                                      120\n",
       "ФИО подписанта                                            120\n",
       "Запись удалена                                           1987\n",
       "Дата удаления записи                                     1986\n",
       "Не показывать на сайте mkrf.ru                           1987\n",
       "дата создания объекта                                       0\n",
       "дата обновления объекта                                     0\n",
       "dtype: int64"
      ]
     },
     "execution_count": 8,
     "metadata": {},
     "output_type": "execute_result"
    }
   ],
   "source": [
    "#определяем серии с наибольшим количеством пропущенных значений\n",
    "films.isnull().sum()"
   ]
  },
  {
   "cell_type": "code",
   "execution_count": 9,
   "metadata": {},
   "outputs": [],
   "source": [
    "#Удаляем серии с наибольшим количеством пропущенных значений, устанавливая спец. лимит\n",
    "films = films.dropna(thresh=1387, axis=1)"
   ]
  },
  {
   "cell_type": "code",
   "execution_count": 10,
   "metadata": {},
   "outputs": [
    {
     "data": {
      "text/plain": [
       "(1987, 33)"
      ]
     },
     "execution_count": 10,
     "metadata": {},
     "output_type": "execute_result"
    }
   ],
   "source": [
    "#Посмотрим на размерность обновленного сета\n",
    "films.shape"
   ]
  },
  {
   "cell_type": "markdown",
   "metadata": {},
   "source": [
    "После нескольких преобразований, сет все еще остается трудно воспринимаемым, поэтому удалим серии,имеющие невысокую ценность\n",
    "для анализа и визуализации"
   ]
  },
  {
   "cell_type": "code",
   "execution_count": 11,
   "metadata": {},
   "outputs": [],
   "source": [
    "films = films.drop(['Номер удостоверения', 'Дата регистрации удостоверения', 'Идентификатор записи реестра',\\\n",
    "                    'Объем носителя', 'Единица измерения', 'Права на использование фильма',\n",
    "       'Категория прав на использование фильма',\n",
    "       'Срок действия прав на способ использования фильма','Возрастная категория.1', 'Код',\n",
    "       'Должность подписанта', 'ФИО подписанта', 'дата создания объекта',\n",
    "       'дата обновления объекта'], axis=1)"
   ]
  },
  {
   "cell_type": "code",
   "execution_count": 12,
   "metadata": {},
   "outputs": [
    {
     "data": {
      "text/html": [
       "<div>\n",
       "<style scoped>\n",
       "    .dataframe tbody tr th:only-of-type {\n",
       "        vertical-align: middle;\n",
       "    }\n",
       "\n",
       "    .dataframe tbody tr th {\n",
       "        vertical-align: top;\n",
       "    }\n",
       "\n",
       "    .dataframe thead th {\n",
       "        text-align: right;\n",
       "    }\n",
       "</style>\n",
       "<table border=\"1\" class=\"dataframe\">\n",
       "  <thead>\n",
       "    <tr style=\"text-align: right;\">\n",
       "      <th></th>\n",
       "      <th>Название фильма</th>\n",
       "      <th>Дата начала показа фильма</th>\n",
       "      <th>Аннотация</th>\n",
       "      <th>Вид Фильма</th>\n",
       "      <th>Категория</th>\n",
       "      <th>Цвет</th>\n",
       "      <th>Продолжительность демонстрации, часы</th>\n",
       "      <th>Продолжительность демонстрации, минуты</th>\n",
       "      <th>Формат носителя</th>\n",
       "      <th>Студия-производитель</th>\n",
       "      <th>Страна производства</th>\n",
       "      <th>Год производства</th>\n",
       "      <th>Режиссер</th>\n",
       "      <th>Художник</th>\n",
       "      <th>Сценарист</th>\n",
       "      <th>Оператор</th>\n",
       "      <th>Композитор</th>\n",
       "      <th>Продюсер</th>\n",
       "      <th>Возрастная категория</th>\n",
       "    </tr>\n",
       "  </thead>\n",
       "  <tbody>\n",
       "    <tr>\n",
       "      <td>122447</td>\n",
       "      <td>Машкины Страшилки. Серия \"Чудовищная правда о ...</td>\n",
       "      <td>2017-06-09T12:00:00.000Z</td>\n",
       "      <td>Детский сериал</td>\n",
       "      <td>Анимационный</td>\n",
       "      <td>Кино</td>\n",
       "      <td>Цветной</td>\n",
       "      <td>0</td>\n",
       "      <td>6</td>\n",
       "      <td>NaN</td>\n",
       "      <td>ООО Студия \"АНИМАККОРД\" - АНИМАККОРД ЛТД.</td>\n",
       "      <td>Россия, Республика Кипр</td>\n",
       "      <td>2017</td>\n",
       "      <td>Д.Червяцов</td>\n",
       "      <td>И.Трусов</td>\n",
       "      <td>И.Шаров</td>\n",
       "      <td>NaN</td>\n",
       "      <td>А.Друбич</td>\n",
       "      <td>Д.Ловейко, О.Кузовков</td>\n",
       "      <td>«0+» для любой зрительской аудитории</td>\n",
       "    </tr>\n",
       "    <tr>\n",
       "      <td>122448</td>\n",
       "      <td>Машкины Страшилки. Серия \"Чудовищная правда о ...</td>\n",
       "      <td>2016-04-25T12:00:00.000Z</td>\n",
       "      <td>Детский сериал</td>\n",
       "      <td>Анимационный</td>\n",
       "      <td>Кино</td>\n",
       "      <td>Цветной</td>\n",
       "      <td>0</td>\n",
       "      <td>6</td>\n",
       "      <td>NaN</td>\n",
       "      <td>ООО Студия \"АНИМАККОРД\" - АНИМАККОРД ЛТД.</td>\n",
       "      <td>Россия, Республика Кипр</td>\n",
       "      <td>2017</td>\n",
       "      <td>Д.Червяцов</td>\n",
       "      <td>NaN</td>\n",
       "      <td>И.Шаров</td>\n",
       "      <td>И.Трусов</td>\n",
       "      <td>А.Друбич</td>\n",
       "      <td>Д.Ловейко, О.Кузовков</td>\n",
       "      <td>«0+» для любой зрительской аудитории</td>\n",
       "    </tr>\n",
       "    <tr>\n",
       "      <td>123422</td>\n",
       "      <td>Анна Каренина. История Вронского</td>\n",
       "      <td>2016-12-29T12:00:00.000Z</td>\n",
       "      <td>В ролях - Е.Боярская, М.Матвеев, В.Кищенко, К....</td>\n",
       "      <td>Художественный</td>\n",
       "      <td>Кино</td>\n",
       "      <td>Цветной</td>\n",
       "      <td>2</td>\n",
       "      <td>18</td>\n",
       "      <td>NaN</td>\n",
       "      <td>ФГУП \"Киноконцерн \"Мосфильм\"</td>\n",
       "      <td>Россия</td>\n",
       "      <td>2017</td>\n",
       "      <td>К.Шахназаров</td>\n",
       "      <td>С.Февралев, Ю.Макушина</td>\n",
       "      <td>А.Бузин, К.Шахназаров</td>\n",
       "      <td>А.Кузнецов</td>\n",
       "      <td>Ю.Потеенко</td>\n",
       "      <td>К.Шахназаров, А.Златопольский</td>\n",
       "      <td>«12+» для детей старше 12 лет</td>\n",
       "    </tr>\n",
       "    <tr>\n",
       "      <td>123443</td>\n",
       "      <td>МУЛЬТ в кино. Выпуск № 50</td>\n",
       "      <td>2017-03-21T12:00:00.000Z</td>\n",
       "      <td>Мультсборник</td>\n",
       "      <td>Анимационный</td>\n",
       "      <td>Кино</td>\n",
       "      <td>Цветной</td>\n",
       "      <td>0</td>\n",
       "      <td>47</td>\n",
       "      <td>NaN</td>\n",
       "      <td>ООО \"Мульт в кино\"</td>\n",
       "      <td>Россия</td>\n",
       "      <td>2017</td>\n",
       "      <td>О.Семёнова</td>\n",
       "      <td>NaN</td>\n",
       "      <td>Гизатуллин В.Р.</td>\n",
       "      <td>NaN</td>\n",
       "      <td>С.Боголюбский, Д.Ставрович</td>\n",
       "      <td>П.Смирнов</td>\n",
       "      <td>«0+» для любой зрительской аудитории</td>\n",
       "    </tr>\n",
       "    <tr>\n",
       "      <td>123452</td>\n",
       "      <td>Анимационный сериал \"Котяткины истории-2\"</td>\n",
       "      <td>2017-04-03T12:00:00.000Z</td>\n",
       "      <td>Анимационный детский сериал</td>\n",
       "      <td>Анимационный</td>\n",
       "      <td>Кино</td>\n",
       "      <td>Цветной</td>\n",
       "      <td>0</td>\n",
       "      <td>30</td>\n",
       "      <td>NaN</td>\n",
       "      <td>ООО \"Студия \"Мастер-Фильм\"</td>\n",
       "      <td>Россия</td>\n",
       "      <td>2017</td>\n",
       "      <td>Д.Наумов</td>\n",
       "      <td>О.Добровольский</td>\n",
       "      <td>Д.Наумов</td>\n",
       "      <td>NaN</td>\n",
       "      <td>Р.Нурмухаметова (Р.Нур)</td>\n",
       "      <td>А.Герасимов</td>\n",
       "      <td>«0+» для любой зрительской аудитории</td>\n",
       "    </tr>\n",
       "  </tbody>\n",
       "</table>\n",
       "</div>"
      ],
      "text/plain": [
       "                                          Название фильма  \\\n",
       "122447  Машкины Страшилки. Серия \"Чудовищная правда о ...   \n",
       "122448  Машкины Страшилки. Серия \"Чудовищная правда о ...   \n",
       "123422                   Анна Каренина. История Вронского   \n",
       "123443                          МУЛЬТ в кино. Выпуск № 50   \n",
       "123452          Анимационный сериал \"Котяткины истории-2\"   \n",
       "\n",
       "       Дата начала показа фильма  \\\n",
       "122447  2017-06-09T12:00:00.000Z   \n",
       "122448  2016-04-25T12:00:00.000Z   \n",
       "123422  2016-12-29T12:00:00.000Z   \n",
       "123443  2017-03-21T12:00:00.000Z   \n",
       "123452  2017-04-03T12:00:00.000Z   \n",
       "\n",
       "                                                Аннотация      Вид Фильма  \\\n",
       "122447                                     Детский сериал    Анимационный   \n",
       "122448                                     Детский сериал    Анимационный   \n",
       "123422  В ролях - Е.Боярская, М.Матвеев, В.Кищенко, К....  Художественный   \n",
       "123443                                       Мультсборник    Анимационный   \n",
       "123452                        Анимационный детский сериал    Анимационный   \n",
       "\n",
       "       Категория     Цвет Продолжительность демонстрации, часы  \\\n",
       "122447      Кино  Цветной                                    0   \n",
       "122448      Кино  Цветной                                    0   \n",
       "123422      Кино  Цветной                                    2   \n",
       "123443      Кино  Цветной                                    0   \n",
       "123452      Кино  Цветной                                    0   \n",
       "\n",
       "       Продолжительность демонстрации, минуты Формат носителя  \\\n",
       "122447                                      6             NaN   \n",
       "122448                                      6             NaN   \n",
       "123422                                     18             NaN   \n",
       "123443                                     47             NaN   \n",
       "123452                                     30             NaN   \n",
       "\n",
       "                             Студия-производитель      Страна производства  \\\n",
       "122447  ООО Студия \"АНИМАККОРД\" - АНИМАККОРД ЛТД.  Россия, Республика Кипр   \n",
       "122448  ООО Студия \"АНИМАККОРД\" - АНИМАККОРД ЛТД.  Россия, Республика Кипр   \n",
       "123422               ФГУП \"Киноконцерн \"Мосфильм\"                   Россия   \n",
       "123443                         ООО \"Мульт в кино\"                   Россия   \n",
       "123452                 ООО \"Студия \"Мастер-Фильм\"                   Россия   \n",
       "\n",
       "       Год производства      Режиссер                Художник  \\\n",
       "122447             2017    Д.Червяцов                И.Трусов   \n",
       "122448             2017    Д.Червяцов                     NaN   \n",
       "123422             2017  К.Шахназаров  С.Февралев, Ю.Макушина   \n",
       "123443             2017    О.Семёнова                     NaN   \n",
       "123452             2017      Д.Наумов         О.Добровольский   \n",
       "\n",
       "                    Сценарист    Оператор                  Композитор  \\\n",
       "122447                И.Шаров         NaN                    А.Друбич   \n",
       "122448                И.Шаров    И.Трусов                    А.Друбич   \n",
       "123422  А.Бузин, К.Шахназаров  А.Кузнецов                  Ю.Потеенко   \n",
       "123443        Гизатуллин В.Р.         NaN  С.Боголюбский, Д.Ставрович   \n",
       "123452               Д.Наумов         NaN     Р.Нурмухаметова (Р.Нур)   \n",
       "\n",
       "                              Продюсер                  Возрастная категория  \n",
       "122447           Д.Ловейко, О.Кузовков  «0+» для любой зрительской аудитории  \n",
       "122448           Д.Ловейко, О.Кузовков  «0+» для любой зрительской аудитории  \n",
       "123422   К.Шахназаров, А.Златопольский         «12+» для детей старше 12 лет  \n",
       "123443                       П.Смирнов  «0+» для любой зрительской аудитории  \n",
       "123452                     А.Герасимов  «0+» для любой зрительской аудитории  "
      ]
     },
     "execution_count": 12,
     "metadata": {},
     "output_type": "execute_result"
    }
   ],
   "source": [
    "films.head()"
   ]
  },
  {
   "cell_type": "markdown",
   "metadata": {},
   "source": [
    "Отформатируем некоторые из серий"
   ]
  },
  {
   "cell_type": "code",
   "execution_count": 13,
   "metadata": {},
   "outputs": [
    {
     "data": {
      "text/plain": [
       "122447    2017-06-09T12:00:00.000Z\n",
       "122448    2016-04-25T12:00:00.000Z\n",
       "Name: Дата начала показа фильма, dtype: object"
      ]
     },
     "execution_count": 13,
     "metadata": {},
     "output_type": "execute_result"
    }
   ],
   "source": [
    "#Укоротим данные сериии \"Дата начала показа\" и переведем во временной формат\n",
    "films['Дата начала показа фильма'].head(2)"
   ]
  },
  {
   "cell_type": "code",
   "execution_count": 14,
   "metadata": {},
   "outputs": [
    {
     "data": {
      "text/plain": [
       "122447   2017-06-09\n",
       "122448   2016-04-25\n",
       "Name: Дата начала показа фильма, dtype: datetime64[ns]"
      ]
     },
     "execution_count": 14,
     "metadata": {},
     "output_type": "execute_result"
    }
   ],
   "source": [
    "films['Дата начала показа фильма'] = pd.to_datetime(films['Дата начала показа фильма'].str[:10])\n",
    "films['Дата начала показа фильма'].head(2)"
   ]
  },
  {
   "cell_type": "code",
   "execution_count": 16,
   "metadata": {},
   "outputs": [
    {
     "data": {
      "text/html": [
       "<div>\n",
       "<style scoped>\n",
       "    .dataframe tbody tr th:only-of-type {\n",
       "        vertical-align: middle;\n",
       "    }\n",
       "\n",
       "    .dataframe tbody tr th {\n",
       "        vertical-align: top;\n",
       "    }\n",
       "\n",
       "    .dataframe thead th {\n",
       "        text-align: right;\n",
       "    }\n",
       "</style>\n",
       "<table border=\"1\" class=\"dataframe\">\n",
       "  <thead>\n",
       "    <tr style=\"text-align: right;\">\n",
       "      <th></th>\n",
       "      <th>Продолжительность демонстрации, часы</th>\n",
       "      <th>Продолжительность демонстрации, минуты</th>\n",
       "    </tr>\n",
       "  </thead>\n",
       "  <tbody>\n",
       "    <tr>\n",
       "      <td>361818</td>\n",
       "      <td>1</td>\n",
       "      <td>29</td>\n",
       "    </tr>\n",
       "    <tr>\n",
       "      <td>280122</td>\n",
       "      <td>2</td>\n",
       "      <td>17</td>\n",
       "    </tr>\n",
       "    <tr>\n",
       "      <td>362098</td>\n",
       "      <td>1</td>\n",
       "      <td>59</td>\n",
       "    </tr>\n",
       "  </tbody>\n",
       "</table>\n",
       "</div>"
      ],
      "text/plain": [
       "       Продолжительность демонстрации, часы  \\\n",
       "361818                                    1   \n",
       "280122                                    2   \n",
       "362098                                    1   \n",
       "\n",
       "       Продолжительность демонстрации, минуты  \n",
       "361818                                     29  \n",
       "280122                                     17  \n",
       "362098                                     59  "
      ]
     },
     "execution_count": 16,
     "metadata": {},
     "output_type": "execute_result"
    }
   ],
   "source": [
    "#Объединим серии продолжительности демонстрации в один\n",
    "films[['Продолжительность демонстрации, часы','Продолжительность демонстрации, минуты']].sample(3)"
   ]
  },
  {
   "cell_type": "code",
   "execution_count": 18,
   "metadata": {},
   "outputs": [
    {
     "data": {
      "text/plain": [
       "344650    100.0\n",
       "345400      8.0\n",
       "345143     85.0\n",
       "Name: Продолжительность демонстрации, минуты, dtype: float64"
      ]
     },
     "execution_count": 18,
     "metadata": {},
     "output_type": "execute_result"
    }
   ],
   "source": [
    "#Для этого переведем обе серии в минуты и сложим между собой\n",
    "duration_hours_to_min = films['Продолжительность демонстрации, часы'].astype(float,errors='ignore') *60\n",
    "duration_mins = films['Продолжительность демонстрации, минуты'].astype(float,errors='ignore')\n",
    "films['Продолжительность демонстрации, минуты'] = duration_hours_to_min + duration_mins\n",
    "films['Продолжительность демонстрации, минуты'].sample(3)"
   ]
  },
  {
   "cell_type": "code",
   "execution_count": 19,
   "metadata": {},
   "outputs": [
    {
     "data": {
      "text/plain": [
       " Художественный                   1219\n",
       "Анимационный                       327\n",
       "Документальный                     207\n",
       "Художественный                     106\n",
       "Прочее (Учебный, Спектакль, …)      82\n",
       "Научно-популярный                   40\n",
       "Прочий                               2\n",
       "Музыкально-развлекательный           1\n",
       "Документаль��ый                      1\n",
       " Художеств��нный                     1\n",
       " Анимационный                        1\n",
       "Name: Вид Фильма, dtype: int64"
      ]
     },
     "execution_count": 19,
     "metadata": {},
     "output_type": "execute_result"
    }
   ],
   "source": [
    "#Посмотрим на формат данных в серии \"Вид фильма\"\n",
    "films['Вид Фильма'].value_counts()"
   ]
  },
  {
   "cell_type": "code",
   "execution_count": 20,
   "metadata": {},
   "outputs": [
    {
     "data": {
      "text/plain": [
       "Художественный       1220\n",
       "Анимационный          328\n",
       "Документальный        208\n",
       "Прочее                 85\n",
       "Научно-популярный      40\n",
       "Name: Вид Фильма, dtype: int64"
      ]
     },
     "execution_count": 20,
     "metadata": {},
     "output_type": "execute_result"
    }
   ],
   "source": [
    "#Как видно некоторые строки дублируются,однако имеют опечатки. \n",
    "#Для редактирования используем функцию map\n",
    "mapping_dict = {\n",
    "    ' Художественный': 'Художественный',\n",
    "    'Анимационный':'Анимационный',\n",
    "    'Документальный':'Документальный',\n",
    "    'Прочее (Учебный, Спектакль, …)':'Прочее',\n",
    "    'Научно-популярный':'Научно-популярный',\n",
    "    'Прочий':'Прочее',\n",
    "    ' Художеств��нный':'Художественный',\n",
    "    ' Анимационный':'Анимационный',\n",
    "    'Документаль��ый': 'Документальный',\n",
    "    'Музыкально-развлекательный':'Прочее'}\n",
    "films['Вид Фильма'] = films['Вид Фильма'].map(mapping_dict)\n",
    "films['Вид Фильма'].value_counts() #После применения данные выглядят:"
   ]
  },
  {
   "cell_type": "code",
   "execution_count": 21,
   "metadata": {},
   "outputs": [
    {
     "data": {
      "text/plain": [
       "HDD                     1283\n",
       "BETACAM – кассета        174\n",
       "DVD – диск                70\n",
       "Жесткий диск DPХ          59\n",
       "35 мм                     52\n",
       "BETAKAM – кассета         40\n",
       "Жесткий диск DPХ          21\n",
       "HDCAM – кассета           16\n",
       "Жесткий диск DPX          15\n",
       "Жесткий диск DCP          12\n",
       "Жесткий диск              10\n",
       "DPX                        9\n",
       "Жесткий диск  DPХ          8\n",
       "HDCAM                      8\n",
       "35 мм, жесткий диск        7\n",
       "HDD, 35 мм                 6\n",
       "DVD                        5\n",
       "HD                         4\n",
       "DCP                        4\n",
       "Жесткий диск  DPX          2\n",
       "Digital Betacam            2\n",
       "35 мм, DCP                 2\n",
       "Жесткий диск HDD           2\n",
       "BETACAM                    2\n",
       "DСP                        1\n",
       "Blu-Ray                    1\n",
       "кинопленка/HDD             1\n",
       "Жесткий диск  HDD          1\n",
       "HDCAM, DVD                 1\n",
       "НDD                        1\n",
       "Betacam Digital            1\n",
       "DVD - диск                 1\n",
       "Жесткий диск  DPХ          1\n",
       "Жесткий диск DCP           1\n",
       "Жесткий диск DCP           1\n",
       "Жесткий диск DCP           1\n",
       "Name: Формат носителя, dtype: int64"
      ]
     },
     "execution_count": 21,
     "metadata": {},
     "output_type": "execute_result"
    }
   ],
   "source": [
    "#Посмотрим на формат данных в серии \"Формат носителя\"\n",
    "films['Формат носителя'].value_counts()"
   ]
  },
  {
   "cell_type": "code",
   "execution_count": 22,
   "metadata": {},
   "outputs": [
    {
     "data": {
      "text/plain": [
       "HDD                1293\n",
       "Другой              265\n",
       "BETACAM–кассета     216\n",
       "DPX                 115\n",
       "DVD                  77\n",
       "DCP                  21\n",
       "Name: Формат носителя, dtype: int64"
      ]
     },
     "execution_count": 22,
     "metadata": {},
     "output_type": "execute_result"
    }
   ],
   "source": [
    "#Здесь также некоторые строки дублируются по смыслу. \n",
    "#Однако уникальных строк слишком много, поэтому имеет смысл написать спец. функцию\n",
    "import re\n",
    "def disk_func(l):\n",
    "    if re.search('HDD',l):  return 'HDD'\n",
    "    elif re.search('BETA[KC]AM',l):  return 'BETACAM–кассета'\n",
    "    elif re.search('DVD',l):  return 'DVD'\n",
    "    elif re.search('DP',l):  return 'DPX'\n",
    "    elif re.search('DCP',l):  return 'DCP'\n",
    "    else: return  'Другой'\n",
    "films['Формат носителя'] = films['Формат носителя'].astype(str) # переводим серию в строковый формат\n",
    "films['Формат носителя'] = films['Формат носителя'].apply(disk_func)# применяем написанную функцию\n",
    "films['Формат носителя'].value_counts() #После применения данные выглядят"
   ]
  },
  {
   "cell_type": "code",
   "execution_count": 23,
   "metadata": {},
   "outputs": [
    {
     "data": {
      "text/html": [
       "<div>\n",
       "<style scoped>\n",
       "    .dataframe tbody tr th:only-of-type {\n",
       "        vertical-align: middle;\n",
       "    }\n",
       "\n",
       "    .dataframe tbody tr th {\n",
       "        vertical-align: top;\n",
       "    }\n",
       "\n",
       "    .dataframe thead th {\n",
       "        text-align: right;\n",
       "    }\n",
       "</style>\n",
       "<table border=\"1\" class=\"dataframe\">\n",
       "  <thead>\n",
       "    <tr style=\"text-align: right;\">\n",
       "      <th></th>\n",
       "      <th>Возрастная категория</th>\n",
       "    </tr>\n",
       "  </thead>\n",
       "  <tbody>\n",
       "    <tr>\n",
       "      <td>360511</td>\n",
       "      <td>«6+» для детей старше 6 лет</td>\n",
       "    </tr>\n",
       "    <tr>\n",
       "      <td>361382</td>\n",
       "      <td>«16+» для детей старше 16 лет</td>\n",
       "    </tr>\n",
       "    <tr>\n",
       "      <td>360714</td>\n",
       "      <td>«18+» запрещено для детей</td>\n",
       "    </tr>\n",
       "  </tbody>\n",
       "</table>\n",
       "</div>"
      ],
      "text/plain": [
       "                 Возрастная категория\n",
       "360511    «6+» для детей старше 6 лет\n",
       "361382  «16+» для детей старше 16 лет\n",
       "360714      «18+» запрещено для детей"
      ]
     },
     "execution_count": 23,
     "metadata": {},
     "output_type": "execute_result"
    }
   ],
   "source": [
    "#Посмотрим на значения в серии 'Возрастная категория'\n",
    "films[['Возрастная категория']].sample(3)"
   ]
  },
  {
   "cell_type": "code",
   "execution_count": 24,
   "metadata": {},
   "outputs": [
    {
     "data": {
      "text/plain": [
       "345304    18+\n",
       "360679    12+\n",
       "360654     6+\n",
       "Name: Возрастная категория, dtype: object"
      ]
     },
     "execution_count": 24,
     "metadata": {},
     "output_type": "execute_result"
    }
   ],
   "source": [
    "#Имеет смысл укоротить значение в каждой строке\n",
    "#Для этого используем встроенный строковый метод в pandas\n",
    "films['Возрастная категория'] = films['Возрастная категория'].str.extract(r'«(.+)»')\n",
    "films['Возрастная категория'].sample(3) #После выуживания числового значения из строки:"
   ]
  },
  {
   "cell_type": "markdown",
   "metadata": {},
   "source": [
    "Посля ряда преобразований, снова посмотрим на тепловую карту пропущенных значений"
   ]
  },
  {
   "cell_type": "code",
   "execution_count": 25,
   "metadata": {},
   "outputs": [
    {
     "data": {
      "text/plain": [
       "<matplotlib.axes._subplots.AxesSubplot at 0x2d1876d1b88>"
      ]
     },
     "execution_count": 25,
     "metadata": {},
     "output_type": "execute_result"
    },
    {
     "data": {
      "image/png": "[encoded data removed]",
      "text/plain": [
       "<Figure size 432x288 with 1 Axes>"
      ]
     },
     "metadata": {
      "needs_background": "light"
     },
     "output_type": "display_data"
    }
   ],
   "source": [
    "sns.heatmap(films.isnull(), cbar=False)"
   ]
  },
  {
   "cell_type": "markdown",
   "metadata": {},
   "source": [
    "Как видни из рисунка, в большинстве серий почти отсутствуют пропущенные значений,\n",
    "кроме некоторых, в которых невозможно заменить без дополнительных источников(имена художников,композиторов,операторов)"
   ]
  },
  {
   "cell_type": "markdown",
   "metadata": {},
   "source": [
    "### Визуализация данных"
   ]
  },
  {
   "cell_type": "markdown",
   "metadata": {},
   "source": [
    "Распределение количества фильмов по годам"
   ]
  },
  {
   "cell_type": "code",
   "execution_count": 26,
   "metadata": {},
   "outputs": [
    {
     "data": {
      "image/png": "[encoded data removed]",
      "text/plain": [
       "<Figure size 720x360 with 1 Axes>"
      ]
     },
     "metadata": {},
     "output_type": "display_data"
    }
   ],
   "source": [
    "ser = films['Год производства'].astype(int)\n",
    "sns.set(style=\"white\")\n",
    "plt.figure(figsize=(10,5))\n",
    "plt.title('Фильмы по году', size=15)\n",
    "sns.distplot(ser,bins=6, kde=False)\n",
    "plt.ylabel('Количество фильмов', size=15)\n",
    "plt.xlabel('Год',size=15)\n",
    "plt.xticks(np.arange(2017, 2020, step=1),rotation=360, ha='right')\n",
    "plt.show()"
   ]
  },
  {
   "cell_type": "markdown",
   "metadata": {},
   "source": [
    "Распределение фильмов по жанру"
   ]
  },
  {
   "cell_type": "code",
   "execution_count": 27,
   "metadata": {},
   "outputs": [
    {
     "data": {
      "text/plain": [
       "Text(0.5, 1.0, 'Фильмы по жанру')"
      ]
     },
     "execution_count": 27,
     "metadata": {},
     "output_type": "execute_result"
    },
    {
     "data": {
      "image/png": "[encoded data removed]",
      "text/plain": [
       "<Figure size 720x360 with 1 Axes>"
      ]
     },
     "metadata": {},
     "output_type": "display_data"
    }
   ],
   "source": [
    "a = plt.cm.cool\n",
    "plt.figure(figsize=(10,5))\n",
    "count = films['Вид Фильма'].value_counts()\n",
    "sns.barplot(count.values, count.index, palette=[a(0.1),a(0.2),a(0.3),a(0.6),a(0.)])\n",
    "for i, v in enumerate(count.values):\n",
    "    plt.text(0.8,i,v,color='k',fontsize=14)\n",
    "plt.xlabel('Количество', fontsize=12)\n",
    "plt.ylabel('Жанры', fontsize=12)\n",
    "plt.title(\"Фильмы по жанру\", fontsize=14)"
   ]
  },
  {
   "cell_type": "markdown",
   "metadata": {},
   "source": [
    "Распределение фильмов по стране производства"
   ]
  },
  {
   "cell_type": "code",
   "execution_count": 28,
   "metadata": {},
   "outputs": [
    {
     "data": {
      "text/plain": [
       "Text(0.5, 1.0, 'Фильмы по странам производства')"
      ]
     },
     "execution_count": 28,
     "metadata": {},
     "output_type": "execute_result"
    },
    {
     "data": {
      "image/png": "[encoded data removed]",
      "text/plain": [
       "<Figure size 720x360 with 1 Axes>"
      ]
     },
     "metadata": {},
     "output_type": "display_data"
    }
   ],
   "source": [
    "a = plt.cm.cool\n",
    "plt.figure(figsize=(10,5))\n",
    "count = films['Страна производства'].value_counts()[:9]\n",
    "sns.barplot(count.values, count.index, palette=[a(0.1),a(0.2),a(0.3),a(0.4),a(0.5),a(0.6),a(0.7),a(0.8),a(0.9)])\n",
    "for i, v in enumerate(count.values):\n",
    "    plt.text(0.8,i,v,color='k',fontsize=14)\n",
    "plt.xlabel('Количество', fontsize=12)\n",
    "plt.ylabel('Страны', fontsize=12)\n",
    "plt.title(\"Фильмы по странам производства\", fontsize=16)"
   ]
  },
  {
   "cell_type": "markdown",
   "metadata": {},
   "source": [
    "Распределение фильмов по продолжительности в минутах"
   ]
  },
  {
   "cell_type": "code",
   "execution_count": 31,
   "metadata": {},
   "outputs": [
    {
     "data": {
      "image/png": "[encoded data removed]",
      "text/plain": [
       "<Figure size 720x360 with 1 Axes>"
      ]
     },
     "metadata": {},
     "output_type": "display_data"
    }
   ],
   "source": [
    "ser = films['Продолжительность демонстрации, минуты']\n",
    "sns.set(style=\"white\")\n",
    "plt.figure(figsize=(10,5))\n",
    "plt.title('Фильмы по продолжительности', size=15)\n",
    "sns.distplot(ser,bins=50, kde=False)\n",
    "plt.ylabel('Количество', size=15)\n",
    "plt.xlabel('Продолжительность в минутах',size=15)\n",
    "plt.xlim(0,200)\n",
    "plt.show()"
   ]
  },
  {
   "cell_type": "markdown",
   "metadata": {},
   "source": [
    "Как видно из графиков, в 2018 году было произведено больше фильмов,чем в предыдущем и последущих годах.Большинство фильмов в сете имеют распространенную для большинства прокатных фильмов продолжительность в 80-120 минут.Самым распространенным жанром в сете является художественный."
   ]
  },
  {
   "cell_type": "code",
   "execution_count": 32,
   "metadata": {},
   "outputs": [],
   "source": [
    "films.to_csv('films_clean.csv')"
   ]
  },
  {
   "cell_type": "code",
   "execution_count": null,
   "metadata": {},
   "outputs": [],
   "source": []
  }
 ],
 "metadata": {
  "kernelspec": {
   "display_name": "Python 3",
   "language": "python",
   "name": "python3"
  },
  "language_info": {
   "codemirror_mode": {
    "name": "ipython",
    "version": 3
   },
   "file_extension": ".py",
   "mimetype": "text/x-python",
   "name": "python",
   "nbconvert_exporter": "python",
   "pygments_lexer": "ipython3",
   "version": "3.7.4"
  }
 },
 "nbformat": 4,
 "nbformat_minor": 2
}
