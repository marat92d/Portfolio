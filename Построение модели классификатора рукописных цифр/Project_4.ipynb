{
 "cells": [
  {
   "cell_type": "markdown",
   "metadata": {},
   "source": [
    "<p style=\"font-family: Arial; font-size:2.2em;color:blue; font-style:bold\"><br>\n",
    "Построение модели классификатора рукописных цифр\n",
    "</p><br>"
   ]
  },
  {
   "cell_type": "markdown",
   "metadata": {},
   "source": [
    "Целью данного блокнота является построение и сравнение разных моделей классификации рукописных цифр.<br>\n",
    "Для сравнения будут взяты модели **К ближайщих соседей** и модель нейронной сети  многослойного персептона **(MLP)** из библиотеки **scikitlearn**"
   ]
  },
  {
   "cell_type": "markdown",
   "metadata": {},
   "source": [
    "Задача распознавания и классификации фотографий является довольно сложной, так как  каждая картинка рассматривается как \n",
    "набор пикселей,<br> которых в картинках с большим разрешением может быть огромное множество (*например 7,990,272 пикселей в фото с разрешением 3264 к 2448*)<br><br>\n",
    "Поэтому для более быстрой обработки размерность снижается до 64 или 128 пикселей, однако при этом теряются детали картинок.<br>\n",
    "С другой стороны каждый пиксель представляется как оттенок серого цвета в диапазоне от 0 до 256 <br>и не имеет явной линейной или нелинейной зависимости с целевой переменной"
   ]
  },
  {
   "cell_type": "code",
   "execution_count": 1,
   "metadata": {},
   "outputs": [],
   "source": [
    "#импортируем основные модули\n",
    "from sklearn.datasets import load_digits\n",
    "import pandas as pd\n",
    "import numpy as np\n",
    "import matplotlib.pyplot as plt\n",
    "%matplotlib inline\n",
    "\n",
    "#выгружаем данные содержащие рукописные цифры в формате пикселей\n",
    "digits_data = load_digits()"
   ]
  },
  {
   "cell_type": "code",
   "execution_count": 2,
   "metadata": {},
   "outputs": [
    {
     "data": {
      "text/plain": [
       "dict_keys(['data', 'target', 'target_names', 'images', 'DESCR'])"
      ]
     },
     "execution_count": 2,
     "metadata": {},
     "output_type": "execute_result"
    }
   ],
   "source": [
    "digits_data.keys()"
   ]
  },
  {
   "cell_type": "markdown",
   "metadata": {},
   "source": [
    "Набор представляет из себя словарь,где по ключу хранятся набор признаков и целевая переменная"
   ]
  },
  {
   "cell_type": "code",
   "execution_count": 3,
   "metadata": {},
   "outputs": [],
   "source": [
    "# Назначаем переменным значения признаков и целевой переменной\n",
    "features = pd.DataFrame(digits_data['data'])\n",
    "targets = pd.Series(digits_data['target'])"
   ]
  },
  {
   "cell_type": "code",
   "execution_count": 4,
   "metadata": {},
   "outputs": [
    {
     "data": {
      "text/html": [
       "<div>\n",
       "<style scoped>\n",
       "    .dataframe tbody tr th:only-of-type {\n",
       "        vertical-align: middle;\n",
       "    }\n",
       "\n",
       "    .dataframe tbody tr th {\n",
       "        vertical-align: top;\n",
       "    }\n",
       "\n",
       "    .dataframe thead th {\n",
       "        text-align: right;\n",
       "    }\n",
       "</style>\n",
       "<table border=\"1\" class=\"dataframe\">\n",
       "  <thead>\n",
       "    <tr style=\"text-align: right;\">\n",
       "      <th></th>\n",
       "      <th>0</th>\n",
       "      <th>1</th>\n",
       "      <th>2</th>\n",
       "      <th>3</th>\n",
       "      <th>4</th>\n",
       "      <th>5</th>\n",
       "      <th>6</th>\n",
       "      <th>7</th>\n",
       "      <th>8</th>\n",
       "      <th>9</th>\n",
       "      <th>...</th>\n",
       "      <th>54</th>\n",
       "      <th>55</th>\n",
       "      <th>56</th>\n",
       "      <th>57</th>\n",
       "      <th>58</th>\n",
       "      <th>59</th>\n",
       "      <th>60</th>\n",
       "      <th>61</th>\n",
       "      <th>62</th>\n",
       "      <th>63</th>\n",
       "    </tr>\n",
       "  </thead>\n",
       "  <tbody>\n",
       "    <tr>\n",
       "      <td>0</td>\n",
       "      <td>0.0</td>\n",
       "      <td>0.0</td>\n",
       "      <td>5.0</td>\n",
       "      <td>13.0</td>\n",
       "      <td>9.0</td>\n",
       "      <td>1.0</td>\n",
       "      <td>0.0</td>\n",
       "      <td>0.0</td>\n",
       "      <td>0.0</td>\n",
       "      <td>0.0</td>\n",
       "      <td>...</td>\n",
       "      <td>0.0</td>\n",
       "      <td>0.0</td>\n",
       "      <td>0.0</td>\n",
       "      <td>0.0</td>\n",
       "      <td>6.0</td>\n",
       "      <td>13.0</td>\n",
       "      <td>10.0</td>\n",
       "      <td>0.0</td>\n",
       "      <td>0.0</td>\n",
       "      <td>0.0</td>\n",
       "    </tr>\n",
       "    <tr>\n",
       "      <td>1</td>\n",
       "      <td>0.0</td>\n",
       "      <td>0.0</td>\n",
       "      <td>0.0</td>\n",
       "      <td>12.0</td>\n",
       "      <td>13.0</td>\n",
       "      <td>5.0</td>\n",
       "      <td>0.0</td>\n",
       "      <td>0.0</td>\n",
       "      <td>0.0</td>\n",
       "      <td>0.0</td>\n",
       "      <td>...</td>\n",
       "      <td>0.0</td>\n",
       "      <td>0.0</td>\n",
       "      <td>0.0</td>\n",
       "      <td>0.0</td>\n",
       "      <td>0.0</td>\n",
       "      <td>11.0</td>\n",
       "      <td>16.0</td>\n",
       "      <td>10.0</td>\n",
       "      <td>0.0</td>\n",
       "      <td>0.0</td>\n",
       "    </tr>\n",
       "    <tr>\n",
       "      <td>2</td>\n",
       "      <td>0.0</td>\n",
       "      <td>0.0</td>\n",
       "      <td>0.0</td>\n",
       "      <td>4.0</td>\n",
       "      <td>15.0</td>\n",
       "      <td>12.0</td>\n",
       "      <td>0.0</td>\n",
       "      <td>0.0</td>\n",
       "      <td>0.0</td>\n",
       "      <td>0.0</td>\n",
       "      <td>...</td>\n",
       "      <td>5.0</td>\n",
       "      <td>0.0</td>\n",
       "      <td>0.0</td>\n",
       "      <td>0.0</td>\n",
       "      <td>0.0</td>\n",
       "      <td>3.0</td>\n",
       "      <td>11.0</td>\n",
       "      <td>16.0</td>\n",
       "      <td>9.0</td>\n",
       "      <td>0.0</td>\n",
       "    </tr>\n",
       "    <tr>\n",
       "      <td>3</td>\n",
       "      <td>0.0</td>\n",
       "      <td>0.0</td>\n",
       "      <td>7.0</td>\n",
       "      <td>15.0</td>\n",
       "      <td>13.0</td>\n",
       "      <td>1.0</td>\n",
       "      <td>0.0</td>\n",
       "      <td>0.0</td>\n",
       "      <td>0.0</td>\n",
       "      <td>8.0</td>\n",
       "      <td>...</td>\n",
       "      <td>9.0</td>\n",
       "      <td>0.0</td>\n",
       "      <td>0.0</td>\n",
       "      <td>0.0</td>\n",
       "      <td>7.0</td>\n",
       "      <td>13.0</td>\n",
       "      <td>13.0</td>\n",
       "      <td>9.0</td>\n",
       "      <td>0.0</td>\n",
       "      <td>0.0</td>\n",
       "    </tr>\n",
       "    <tr>\n",
       "      <td>4</td>\n",
       "      <td>0.0</td>\n",
       "      <td>0.0</td>\n",
       "      <td>0.0</td>\n",
       "      <td>1.0</td>\n",
       "      <td>11.0</td>\n",
       "      <td>0.0</td>\n",
       "      <td>0.0</td>\n",
       "      <td>0.0</td>\n",
       "      <td>0.0</td>\n",
       "      <td>0.0</td>\n",
       "      <td>...</td>\n",
       "      <td>0.0</td>\n",
       "      <td>0.0</td>\n",
       "      <td>0.0</td>\n",
       "      <td>0.0</td>\n",
       "      <td>0.0</td>\n",
       "      <td>2.0</td>\n",
       "      <td>16.0</td>\n",
       "      <td>4.0</td>\n",
       "      <td>0.0</td>\n",
       "      <td>0.0</td>\n",
       "    </tr>\n",
       "  </tbody>\n",
       "</table>\n",
       "<p>5 rows × 64 columns</p>\n",
       "</div>"
      ],
      "text/plain": [
       "    0    1    2     3     4     5    6    7    8    9   ...   54   55   56  \\\n",
       "0  0.0  0.0  5.0  13.0   9.0   1.0  0.0  0.0  0.0  0.0  ...  0.0  0.0  0.0   \n",
       "1  0.0  0.0  0.0  12.0  13.0   5.0  0.0  0.0  0.0  0.0  ...  0.0  0.0  0.0   \n",
       "2  0.0  0.0  0.0   4.0  15.0  12.0  0.0  0.0  0.0  0.0  ...  5.0  0.0  0.0   \n",
       "3  0.0  0.0  7.0  15.0  13.0   1.0  0.0  0.0  0.0  8.0  ...  9.0  0.0  0.0   \n",
       "4  0.0  0.0  0.0   1.0  11.0   0.0  0.0  0.0  0.0  0.0  ...  0.0  0.0  0.0   \n",
       "\n",
       "    57   58    59    60    61   62   63  \n",
       "0  0.0  6.0  13.0  10.0   0.0  0.0  0.0  \n",
       "1  0.0  0.0  11.0  16.0  10.0  0.0  0.0  \n",
       "2  0.0  0.0   3.0  11.0  16.0  9.0  0.0  \n",
       "3  0.0  7.0  13.0  13.0   9.0  0.0  0.0  \n",
       "4  0.0  0.0   2.0  16.0   4.0  0.0  0.0  \n",
       "\n",
       "[5 rows x 64 columns]"
      ]
     },
     "execution_count": 4,
     "metadata": {},
     "output_type": "execute_result"
    }
   ],
   "source": [
    "#Посмотрим на наши данные\n",
    "features.head()"
   ]
  },
  {
   "cell_type": "markdown",
   "metadata": {},
   "source": [
    "Как видно каждое наблюдение в наборе представляет собой набор пикселей длинной в **64** элемента<br>\n",
    "Чтобы представить каждое наблюдении в виде картинки, необходимо переоформить каждое наблюдение в виде **(8*8)**<br>\n",
    "Для этого воспользуемся библиотекой **matplotlib** и **numpy** \n"
   ]
  },
  {
   "cell_type": "code",
   "execution_count": 6,
   "metadata": {},
   "outputs": [
    {
     "data": {
      "text/plain": [
       "<matplotlib.image.AxesImage at 0x28a8916ee48>"
      ]
     },
     "execution_count": 6,
     "metadata": {},
     "output_type": "execute_result"
    },
    {
     "data": {
      "image/png": "[encoded data removed]",
      "text/plain": [
       "<Figure size 432x288 with 1 Axes>"
      ]
     },
     "metadata": {
      "needs_background": "light"
     },
     "output_type": "display_data"
    }
   ],
   "source": [
    "#Выберем первое наблюдение и визуализируем его\n",
    "first_image = features.iloc[0]\n",
    "np_image = first_image.values\n",
    "np_image = np_image.reshape(8,8)\n",
    "plt.imshow(np_image, cmap='gray_r')"
   ]
  },
  {
   "cell_type": "code",
   "execution_count": 7,
   "metadata": {},
   "outputs": [
    {
     "data": {
      "text/plain": [
       "<matplotlib.image.AxesImage at 0x28a8a850608>"
      ]
     },
     "execution_count": 7,
     "metadata": {},
     "output_type": "execute_result"
    },
    {
     "data": {
      "image/png": "[encoded data removed]",
      "text/plain": [
       "<Figure size 432x288 with 8 Axes>"
      ]
     },
     "metadata": {
      "needs_background": "light"
     },
     "output_type": "display_data"
    }
   ],
   "source": [
    "#Сделаем то же самое для нескольких разных наблюдений\n",
    "f, ax = plt.subplots(2,4)\n",
    "ax[0,0].imshow(features.iloc[0].values.reshape(8,8), cmap='gray_r')\n",
    "ax[0,1].imshow(features.iloc[99].values.reshape(8,8), cmap='gray_r')\n",
    "ax[0,2].imshow(features.iloc[199].values.reshape(8,8), cmap='gray_r')\n",
    "ax[0,3].imshow(features.iloc[299].values.reshape(8,8), cmap='gray_r')\n",
    "\n",
    "ax[1,0].imshow(features.iloc[999].values.reshape(8,8), cmap='gray_r')\n",
    "ax[1,1].imshow(features.iloc[1099].values.reshape(8,8), cmap='gray_r')\n",
    "ax[1,2].imshow(features.iloc[1199].values.reshape(8,8), cmap='gray_r')\n",
    "ax[1,3].imshow(features.iloc[1299].values.reshape(8,8), cmap='gray_r')"
   ]
  },
  {
   "cell_type": "code",
   "execution_count": 8,
   "metadata": {},
   "outputs": [],
   "source": [
    "import warnings\n",
    "warnings.filterwarnings('ignore')"
   ]
  },
  {
   "cell_type": "markdown",
   "metadata": {},
   "source": [
    "<p style=\"font-family: Arial; font-size:2em;color:blue; font-style:bold\"><br>\n",
    "Модель К ближайщих соседей\n",
    "</p><br>"
   ]
  },
  {
   "cell_type": "markdown",
   "metadata": {},
   "source": [
    "Так как признаки не имеют явной линейной зависимости с целевой переменной, то задачу классификации стоит начать с метода \n",
    "K ближайщих соседей.\n",
    "Попробуем построить модель с разным количеством соседей и воспользуемся кросвалидацией для борьбы с переобучением"
   ]
  },
  {
   "cell_type": "code",
   "execution_count": 9,
   "metadata": {},
   "outputs": [],
   "source": [
    "# Установим диапазон соседей от 1 до 10 с количеством фолдов равного 4.\n",
    "from sklearn.neighbors import KNeighborsClassifier\n",
    "from  sklearn.model_selection import cross_val_score\n",
    "knn_scores = []\n",
    "for k in range(1,10):\n",
    "    knn = KNeighborsClassifier(n_neighbors=k)\n",
    "    accuracy_ar = cross_val_score(knn, features,targets, cv=3)\n",
    "    knn_scores.append(np.mean(accuracy_ar))"
   ]
  },
  {
   "cell_type": "code",
   "execution_count": 10,
   "metadata": {},
   "outputs": [
    {
     "data": {
      "text/plain": [
       "[<matplotlib.lines.Line2D at 0x28a8adfda88>]"
      ]
     },
     "execution_count": 10,
     "metadata": {},
     "output_type": "execute_result"
    },
    {
     "data": {
      "image/png": "[encoded data removed]",
      "text/plain": [
       "<Figure size 576x288 with 1 Axes>"
      ]
     },
     "metadata": {
      "needs_background": "light"
     },
     "output_type": "display_data"
    }
   ],
   "source": [
    "#Посмотрим на графике среднюю accuracy в зависимости от количества соседей\n",
    "plt.figure(figsize=(8,4))\n",
    "plt.title(\"Средняя Accuracy vs. k\")\n",
    "plt.plot(list(range(1,10)), knn_scores)"
   ]
  },
  {
   "cell_type": "markdown",
   "metadata": {},
   "source": [
    "**Вывод**<br>\n",
    "Судя по графику метод К ближайщих соседей при правильно подобранном количестве соседей, довольно неплохо справляется с задачей<br> \n",
    "классификации, однако сам по себе метод не является математической моделью, так как предсказывает значения, опираясь на весь \n",
    "тренировочный сет."
   ]
  },
  {
   "cell_type": "markdown",
   "metadata": {},
   "source": [
    "<p style=\"font-family: Arial; font-size:2em;color:blue; font-style:bold\"><br>\n",
    "Нейронная сеть с одним скрытым слоем\n",
    "</p><br> "
   ]
  },
  {
   "cell_type": "markdown",
   "metadata": {},
   "source": [
    "Импортируем модель многослойного персептона(MLP) нейронной сети из библиотеки scikitlear\n",
    "и построим модель с разным количеством нейронов в скрытом слое."
   ]
  },
  {
   "cell_type": "code",
   "execution_count": 12,
   "metadata": {},
   "outputs": [],
   "source": [
    "#Установим количество нейронов от 8 до 256, с тем же количеством фолдов в кросс-валидации\n",
    "from sklearn.neural_network import MLPClassifier\n",
    "neurons = [8, 16, 32, 64, 128, 256]\n",
    "nn_one_accuracy = []\n",
    "for n in neurons:\n",
    "    mlp = MLPClassifier(hidden_layer_sizes=(n,))\n",
    "    accuracy_ar = cross_val_score(mlp, features,targets, cv=4)\n",
    "    nn_one_accuracy.append(np.mean(accuracy_ar))"
   ]
  },
  {
   "cell_type": "code",
   "execution_count": 13,
   "metadata": {},
   "outputs": [
    {
     "data": {
      "text/plain": [
       "[<matplotlib.lines.Line2D at 0x28a8ae9da08>]"
      ]
     },
     "execution_count": 13,
     "metadata": {},
     "output_type": "execute_result"
    },
    {
     "data": {
      "image/png": "[encoded data removed]",
      "text/plain": [
       "<Figure size 576x288 with 1 Axes>"
      ]
     },
     "metadata": {
      "needs_background": "light"
     },
     "output_type": "display_data"
    }
   ],
   "source": [
    "#Посмотрим на графике среднюю accuracy в зависимости от количества нейронов в скрытом слою\n",
    "plt.figure(figsize=(8,4))\n",
    "plt.title(\"Средняя Accuracy vs. количество нейронов в 1 слою\")\n",
    "plt.plot(neurons, nn_one_accuracy)"
   ]
  },
  {
   "cell_type": "code",
   "execution_count": 14,
   "metadata": {},
   "outputs": [
    {
     "data": {
      "text/plain": [
       "[0.7958202731722266,\n",
       " 0.912551928944247,\n",
       " 0.9287389664277662,\n",
       " 0.9392813343134623,\n",
       " 0.9520931671301092,\n",
       " 0.9476522525975382]"
      ]
     },
     "execution_count": 14,
     "metadata": {},
     "output_type": "execute_result"
    }
   ],
   "source": [
    " nn_one_accuracy"
   ]
  },
  {
   "cell_type": "markdown",
   "metadata": {},
   "source": [
    "**Вывод**<br>\n",
    "Похоже, что добавление большего количества нейронов к одному скрытому слою помогло значительно повысить точность измерений с примерно 86% до примерно 94%. <br>\n",
    "Учитывая, что k-ближайшие соседи достигли точности приблизительно 96%, кажется, что нет никаких преимуществ использования <br>нейронной сети с одним скрытым слоем для этой проблемы."
   ]
  },
  {
   "cell_type": "markdown",
   "metadata": {},
   "source": [
    "<p style=\"font-family: Arial; font-size:2em;color:blue; font-style:bold\"><br>\n",
    "Нейронная сеть с двумя скрытыми слоями\n",
    "</p><br> "
   ]
  },
  {
   "cell_type": "markdown",
   "metadata": {},
   "source": [
    "Добавим дополнительный скрытый слой в сеть, на этот раз отберем уменьшим количество итераций по количеству нейронов сети (для\n",
    "умешьшения времени вычислительных процессов)"
   ]
  },
  {
   "cell_type": "code",
   "execution_count": 16,
   "metadata": {},
   "outputs": [],
   "source": [
    "#Установим количество нейронов от 64 до 256, с тем же количеством фолдов в кросс-валидации\n",
    "neurons_cut = [64, 128, 256]\n",
    "nn_two_accuracy = []\n",
    "for n in neurons_cut:\n",
    "    mlp = MLPClassifier(hidden_layer_sizes=(n,n))\n",
    "    accuracy_ar = cross_val_score(mlp, features,targets, cv=4)\n",
    "    nn_two_accuracy.append(np.mean(accuracy_ar))"
   ]
  },
  {
   "cell_type": "code",
   "execution_count": 17,
   "metadata": {},
   "outputs": [
    {
     "data": {
      "text/plain": [
       "[<matplotlib.lines.Line2D at 0x28a8b38ee88>]"
      ]
     },
     "execution_count": 17,
     "metadata": {},
     "output_type": "execute_result"
    },
    {
     "data": {
      "image/png": "[encoded data removed]",
      "text/plain": [
       "<Figure size 576x288 with 1 Axes>"
      ]
     },
     "metadata": {
      "needs_background": "light"
     },
     "output_type": "display_data"
    }
   ],
   "source": [
    "#Посмотрим на графике среднюю accuracy в зависимости от количества нейронов в скрытом слою\n",
    "plt.figure(figsize=(8,4))\n",
    "plt.title(\"Средняя Accuracy vs. количество нейронов в 2-х слоях\")\n",
    "plt.plot(neurons_cut, nn_two_accuracy)"
   ]
  },
  {
   "cell_type": "code",
   "execution_count": 18,
   "metadata": {},
   "outputs": [
    {
     "data": {
      "text/plain": [
       "[0.9426386183975266, 0.9437627036629075, 0.9571404416551045]"
      ]
     },
     "execution_count": 18,
     "metadata": {},
     "output_type": "execute_result"
    }
   ],
   "source": [
    "nn_two_accuracy"
   ]
  },
  {
   "cell_type": "markdown",
   "metadata": {},
   "source": [
    "**Вывод**<br>\n",
    "Использование 2 скрытых слоев улучшило нашу простую точность до 95%. <br>\n",
    "Использование 4-х кратной перекрестной проверки дает уверенность что увеличение в точности на 1 % вызвано<br>\n",
    "добавление второго слоя, нежели переобучением.<br>"
   ]
  },
  {
   "cell_type": "markdown",
   "metadata": {},
   "source": [
    "<p style=\"font-family: Arial; font-size:2em;color:blue; font-style:bold\"><br>\n",
    "Нейронная сеть с тремя скрытыми слоями\n",
    "</p><br> "
   ]
  },
  {
   "cell_type": "markdown",
   "metadata": {},
   "source": [
    "Добавим третий скрытый слой в сеть, на этот раз уменьшим количество нейронов в каждом слою"
   ]
  },
  {
   "cell_type": "code",
   "execution_count": 37,
   "metadata": {},
   "outputs": [],
   "source": [
    "#Установим количество нейронов от 10 до 128, с тем же количеством фолдов в кросс-валидации\n",
    "neurons_three_nn = [10, 64, 128]\n",
    "nn_three_accuracy = []\n",
    "for n in neurons_cut:\n",
    "    mlp = MLPClassifier(hidden_layer_sizes=(n,n,n))\n",
    "    accuracy_ar = cross_val_score(mlp, features,targets, cv=4)\n",
    "    nn_three_accuracy.append(np.mean(accuracy_ar))"
   ]
  },
  {
   "cell_type": "code",
   "execution_count": 38,
   "metadata": {},
   "outputs": [
    {
     "data": {
      "text/plain": [
       "[<matplotlib.lines.Line2D at 0x28a8b1b7548>]"
      ]
     },
     "execution_count": 38,
     "metadata": {},
     "output_type": "execute_result"
    },
    {
     "data": {
      "image/png": "[encoded data removed]",
      "text/plain": [
       "<Figure size 576x288 with 1 Axes>"
      ]
     },
     "metadata": {
      "needs_background": "light"
     },
     "output_type": "display_data"
    }
   ],
   "source": [
    "#Посмотрим на графике среднюю accuracy в зависимости от количества нейронов в скрытом слоях\n",
    "plt.figure(figsize=(8,4))\n",
    "plt.title(\"Средняя Accuracy vs. количество нейронов в 3-х слоях\")\n",
    "plt.plot(neurons_three_nn, nn_three_accuracy)"
   ]
  },
  {
   "cell_type": "code",
   "execution_count": 39,
   "metadata": {},
   "outputs": [
    {
     "data": {
      "text/plain": [
       "[0.9510436523661636, 0.9499087048554623, 0.9616433132375957]"
      ]
     },
     "execution_count": 39,
     "metadata": {},
     "output_type": "execute_result"
    }
   ],
   "source": [
    "nn_three_accuracy"
   ]
  },
  {
   "cell_type": "markdown",
   "metadata": {},
   "source": [
    "**Вывод**<br>\n",
    "Использование 3 скрытых слоев улучшило нашу простую точность до 96% , что это соответствует идеи,<br>\n",
    "что наличие большего количества слоев и большего количества нейронов имеет тенденцию улучшать производительность сети."
   ]
  },
  {
   "cell_type": "markdown",
   "metadata": {},
   "source": [
    "<p style=\"font-family: Arial; font-size:1.8em;color:blue; font-style:bold\"><br>\n",
    "Визуализация точности модели\n",
    "</p><br> "
   ]
  },
  {
   "cell_type": "code",
   "execution_count": 40,
   "metadata": {},
   "outputs": [],
   "source": [
    "#Разделим сет на тренировочный и тестовый\n",
    "from sklearn.model_selection import train_test_split\n",
    "X_train,X_test,y_train,y_test = train_test_split(features,targets)"
   ]
  },
  {
   "cell_type": "code",
   "execution_count": 41,
   "metadata": {},
   "outputs": [
    {
     "data": {
      "text/plain": [
       "MLPClassifier(activation='relu', alpha=0.0001, batch_size='auto', beta_1=0.9,\n",
       "              beta_2=0.999, early_stopping=False, epsilon=1e-08,\n",
       "              hidden_layer_sizes=(128, 128, 128), learning_rate='constant',\n",
       "              learning_rate_init=0.001, max_iter=200, momentum=0.9,\n",
       "              n_iter_no_change=10, nesterovs_momentum=True, power_t=0.5,\n",
       "              random_state=None, shuffle=True, solver='adam', tol=0.0001,\n",
       "              validation_fraction=0.1, verbose=False, warm_start=False)"
      ]
     },
     "execution_count": 41,
     "metadata": {},
     "output_type": "execute_result"
    }
   ],
   "source": [
    "# Инициируем модель с тремя скрытыми слоями и одинаковым числом нейронов на каждом слою\n",
    "from sklearn.metrics import confusion_matrix\n",
    "clf = MLPClassifier(hidden_layer_sizes=(128,128,128))\n",
    "clf.fit(X_train, y_train)"
   ]
  },
  {
   "cell_type": "code",
   "execution_count": 42,
   "metadata": {},
   "outputs": [],
   "source": [
    "#Используем confusion матрицу для визуализации точности прогноза модели\n",
    "import seaborn as sns\n",
    "nn_predictions = clf.predict(X_test)\n",
    "matrix = confusion_matrix(y_test, nn_predictions)"
   ]
  },
  {
   "cell_type": "code",
   "execution_count": 43,
   "metadata": {},
   "outputs": [
    {
     "data": {
      "text/plain": [
       "(0, 10)"
      ]
     },
     "execution_count": 43,
     "metadata": {},
     "output_type": "execute_result"
    },
    {
     "data": {
      "image/png": "[encoded data removed]",
      "text/plain": [
       "<Figure size 720x720 with 2 Axes>"
      ]
     },
     "metadata": {
      "needs_background": "light"
     },
     "output_type": "display_data"
    }
   ],
   "source": [
    "plt.figure(figsize=(10, 10))\n",
    "sns.heatmap(data=matrix, annot=True, cmap='Blues',fmt=f'.0f')\n",
    "plt.title('Confusion Matrix - Training Dataset', size=24)\n",
    "plt.xlabel('Predictions', size=20);\n",
    "plt.ylabel('Labels', size=20);\n",
    "plt.ylim(0,10)"
   ]
  },
  {
   "cell_type": "markdown",
   "metadata": {},
   "source": [
    "Как видно в подавляющем большинстве случаев модель почти идеально предсказала результат(label)"
   ]
  },
  {
   "cell_type": "markdown",
   "metadata": {},
   "source": [
    "<p style=\"font-family: Arial; font-size:1.8em;color:blue; font-style:bold\"><br>\n",
    "Заключение\n",
    "</p><br> "
   ]
  },
  {
   "cell_type": "markdown",
   "metadata": {},
   "source": [
    "Метод К ближайщих соседей неплохо справляется с задачей классификации рукописных цифр, однако при большом объеме признаков и \n",
    "наблюдений, процесс классификации будет занимать весьма продолжительное время,так как модель не строит никакой математической модели.<br>\n",
    "С другой стороны модель нейронной сети многослойного персептона (MLP) способна давать почти 100 % правильные прогнозы при правильном подборе ее параметров(количество слоев и нейронов в каждом), используя при этом линейную модель и захватывая нелинейные зависимости в скрытых слоях.<br> Все это дает большое преимущество перед методом К соседей"
   ]
  },
  {
   "cell_type": "code",
   "execution_count": null,
   "metadata": {},
   "outputs": [],
   "source": []
  }
 ],
 "metadata": {
  "kernelspec": {
   "display_name": "Python 3",
   "language": "python",
   "name": "python3"
  },
  "language_info": {
   "codemirror_mode": {
    "name": "ipython",
    "version": 3
   },
   "file_extension": ".py",
   "mimetype": "text/x-python",
   "name": "python",
   "nbconvert_exporter": "python",
   "pygments_lexer": "ipython3",
   "version": "3.7.4"
  }
 },
 "nbformat": 4,
 "nbformat_minor": 2
}
