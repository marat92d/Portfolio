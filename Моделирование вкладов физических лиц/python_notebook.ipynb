{
 "cells": [
  {
   "cell_type": "markdown",
   "metadata": {},
   "source": [
    "# Моделирование вкладов физических лиц"
   ]
  },
  {
   "cell_type": "markdown",
   "metadata": {},
   "source": [
    "Задача:  требуется построить и описать модель, где целевой переменной (таргетом) являются помесячные изменения объемов рынка вкладов физических лиц РФ в рублях, которая будет объяснима с точки зрения экономической логики.<br> Дополнительно требуется построить прогноз таргета на 1.18 – 12.18."
   ]
  },
  {
   "cell_type": "markdown",
   "metadata": {},
   "source": [
    "# Обработка данных"
   ]
  },
  {
   "cell_type": "markdown",
   "metadata": {},
   "source": [
    "Данные: в файле xls представлены данные по изменениям объемов вкладов физических лиц в рублях в РФ, а также ставки по продукту, связанным с ним продуктам и макроэкономические показатели."
   ]
  },
  {
   "cell_type": "code",
   "execution_count": 1,
   "metadata": {},
   "outputs": [],
   "source": [
    "# импорт основных библиотек\n",
    "import pandas as pd\n",
    "import numpy as np\n",
    "import matplotlib.pyplot as plt\n",
    "%matplotlib inline\n",
    "import seaborn as sns"
   ]
  },
  {
   "cell_type": "code",
   "execution_count": 2,
   "metadata": {},
   "outputs": [],
   "source": [
    "# загружаем данные из файла\n",
    "data = pd.read_excel('BST_DataSet.xlsx')"
   ]
  },
  {
   "cell_type": "code",
   "execution_count": 3,
   "metadata": {},
   "outputs": [
    {
     "data": {
      "text/html": [
       "<div>\n",
       "<style scoped>\n",
       "    .dataframe tbody tr th:only-of-type {\n",
       "        vertical-align: middle;\n",
       "    }\n",
       "\n",
       "    .dataframe tbody tr th {\n",
       "        vertical-align: top;\n",
       "    }\n",
       "\n",
       "    .dataframe thead th {\n",
       "        text-align: right;\n",
       "    }\n",
       "</style>\n",
       "<table border=\"1\" class=\"dataframe\">\n",
       "  <thead>\n",
       "    <tr style=\"text-align: right;\">\n",
       "      <th></th>\n",
       "      <th>Unnamed: 0</th>\n",
       "      <th>Прирост вкладов физических лиц в рублях (млн руб)</th>\n",
       "      <th>Доходность ОФЗ по сроку до 1 года</th>\n",
       "      <th>Ключевая ставка</th>\n",
       "      <th>Ставка по вкладам в долларах до 1 года</th>\n",
       "      <th>Ставка по вкладам в рублях до 1 года</th>\n",
       "      <th>Нефть марки Юралс, долл./барр</th>\n",
       "      <th>Индекс потребительских цен, ед.</th>\n",
       "      <th>М0, руб</th>\n",
       "      <th>М2, руб</th>\n",
       "      <th>Курс доллара к рублю, руб</th>\n",
       "      <th>Номинальная средняя з/п, руб</th>\n",
       "    </tr>\n",
       "  </thead>\n",
       "  <tbody>\n",
       "    <tr>\n",
       "      <td>0</td>\n",
       "      <td>2011-01-01</td>\n",
       "      <td>-79049.0</td>\n",
       "      <td>5.244667</td>\n",
       "      <td>7.75</td>\n",
       "      <td>2.9</td>\n",
       "      <td>4.5</td>\n",
       "      <td>96.29</td>\n",
       "      <td>106.17151</td>\n",
       "      <td>5532900</td>\n",
       "      <td>19307.7</td>\n",
       "      <td>30.08</td>\n",
       "      <td>20669</td>\n",
       "    </tr>\n",
       "    <tr>\n",
       "      <td>1</td>\n",
       "      <td>2011-02-01</td>\n",
       "      <td>180475.0</td>\n",
       "      <td>5.144211</td>\n",
       "      <td>8.00</td>\n",
       "      <td>3.1</td>\n",
       "      <td>4.4</td>\n",
       "      <td>103.96</td>\n",
       "      <td>106.99964</td>\n",
       "      <td>5613700</td>\n",
       "      <td>19536.7</td>\n",
       "      <td>29.29</td>\n",
       "      <td>20680</td>\n",
       "    </tr>\n",
       "    <tr>\n",
       "      <td>2</td>\n",
       "      <td>2011-03-01</td>\n",
       "      <td>106845.0</td>\n",
       "      <td>5.021364</td>\n",
       "      <td>8.00</td>\n",
       "      <td>3.1</td>\n",
       "      <td>4.2</td>\n",
       "      <td>114.44</td>\n",
       "      <td>107.66304</td>\n",
       "      <td>5647000</td>\n",
       "      <td>19788.7</td>\n",
       "      <td>28.43</td>\n",
       "      <td>22673</td>\n",
       "    </tr>\n",
       "    <tr>\n",
       "      <td>3</td>\n",
       "      <td>2011-04-01</td>\n",
       "      <td>224890.0</td>\n",
       "      <td>4.558571</td>\n",
       "      <td>8.00</td>\n",
       "      <td>2.6</td>\n",
       "      <td>4.1</td>\n",
       "      <td>123.15</td>\n",
       "      <td>108.12599</td>\n",
       "      <td>5863400</td>\n",
       "      <td>20020.8</td>\n",
       "      <td>28.10</td>\n",
       "      <td>22519</td>\n",
       "    </tr>\n",
       "    <tr>\n",
       "      <td>4</td>\n",
       "      <td>2011-05-01</td>\n",
       "      <td>45856.0</td>\n",
       "      <td>4.795000</td>\n",
       "      <td>8.25</td>\n",
       "      <td>2.6</td>\n",
       "      <td>4.1</td>\n",
       "      <td>114.46</td>\n",
       "      <td>108.64500</td>\n",
       "      <td>5893400</td>\n",
       "      <td>20160.9</td>\n",
       "      <td>27.87</td>\n",
       "      <td>22779</td>\n",
       "    </tr>\n",
       "  </tbody>\n",
       "</table>\n",
       "</div>"
      ],
      "text/plain": [
       "  Unnamed: 0  Прирост вкладов физических лиц в рублях (млн руб)  \\\n",
       "0 2011-01-01                                           -79049.0   \n",
       "1 2011-02-01                                           180475.0   \n",
       "2 2011-03-01                                           106845.0   \n",
       "3 2011-04-01                                           224890.0   \n",
       "4 2011-05-01                                            45856.0   \n",
       "\n",
       "   Доходность ОФЗ по сроку до 1 года  Ключевая ставка  \\\n",
       "0                           5.244667             7.75   \n",
       "1                           5.144211             8.00   \n",
       "2                           5.021364             8.00   \n",
       "3                           4.558571             8.00   \n",
       "4                           4.795000             8.25   \n",
       "\n",
       "   Ставка по вкладам в долларах до 1 года  \\\n",
       "0                                     2.9   \n",
       "1                                     3.1   \n",
       "2                                     3.1   \n",
       "3                                     2.6   \n",
       "4                                     2.6   \n",
       "\n",
       "   Ставка по вкладам в рублях до 1 года  Нефть марки Юралс, долл./барр  \\\n",
       "0                                   4.5                          96.29   \n",
       "1                                   4.4                         103.96   \n",
       "2                                   4.2                         114.44   \n",
       "3                                   4.1                         123.15   \n",
       "4                                   4.1                         114.46   \n",
       "\n",
       "   Индекс потребительских цен, ед.  М0, руб  М2, руб  \\\n",
       "0                        106.17151  5532900  19307.7   \n",
       "1                        106.99964  5613700  19536.7   \n",
       "2                        107.66304  5647000  19788.7   \n",
       "3                        108.12599  5863400  20020.8   \n",
       "4                        108.64500  5893400  20160.9   \n",
       "\n",
       "   Курс доллара к рублю, руб  Номинальная средняя з/п, руб  \n",
       "0                      30.08                         20669  \n",
       "1                      29.29                         20680  \n",
       "2                      28.43                         22673  \n",
       "3                      28.10                         22519  \n",
       "4                      27.87                         22779  "
      ]
     },
     "execution_count": 3,
     "metadata": {},
     "output_type": "execute_result"
    }
   ],
   "source": [
    "data.head()"
   ]
  },
  {
   "cell_type": "markdown",
   "metadata": {},
   "source": [
    "Данные в колонке *M0* и *M2* представлены в разных масштабах(M0 является частью M2,следовательно должно быть меньше),\n",
    "поэтому приведем М0 к масштабу М2:"
   ]
  },
  {
   "cell_type": "code",
   "execution_count": 4,
   "metadata": {},
   "outputs": [],
   "source": [
    "# напишем для этого спец. функцию\n",
    "def transform_M0(data):\n",
    "    data['М0, руб'] = data['М0, руб']/(1000000)\n",
    "    return data\n",
    "data = transform_M0(data)"
   ]
  },
  {
   "cell_type": "code",
   "execution_count": 7,
   "metadata": {},
   "outputs": [
    {
     "data": {
      "text/html": [
       "<div>\n",
       "<style scoped>\n",
       "    .dataframe tbody tr th:only-of-type {\n",
       "        vertical-align: middle;\n",
       "    }\n",
       "\n",
       "    .dataframe tbody tr th {\n",
       "        vertical-align: top;\n",
       "    }\n",
       "\n",
       "    .dataframe thead th {\n",
       "        text-align: right;\n",
       "    }\n",
       "</style>\n",
       "<table border=\"1\" class=\"dataframe\">\n",
       "  <thead>\n",
       "    <tr style=\"text-align: right;\">\n",
       "      <th></th>\n",
       "      <th>М0, руб</th>\n",
       "      <th>М2, руб</th>\n",
       "    </tr>\n",
       "  </thead>\n",
       "  <tbody>\n",
       "    <tr>\n",
       "      <td>0</td>\n",
       "      <td>5.5329</td>\n",
       "      <td>19307.7</td>\n",
       "    </tr>\n",
       "    <tr>\n",
       "      <td>1</td>\n",
       "      <td>5.6137</td>\n",
       "      <td>19536.7</td>\n",
       "    </tr>\n",
       "    <tr>\n",
       "      <td>2</td>\n",
       "      <td>5.6470</td>\n",
       "      <td>19788.7</td>\n",
       "    </tr>\n",
       "    <tr>\n",
       "      <td>3</td>\n",
       "      <td>5.8634</td>\n",
       "      <td>20020.8</td>\n",
       "    </tr>\n",
       "    <tr>\n",
       "      <td>4</td>\n",
       "      <td>5.8934</td>\n",
       "      <td>20160.9</td>\n",
       "    </tr>\n",
       "  </tbody>\n",
       "</table>\n",
       "</div>"
      ],
      "text/plain": [
       "   М0, руб  М2, руб\n",
       "0   5.5329  19307.7\n",
       "1   5.6137  19536.7\n",
       "2   5.6470  19788.7\n",
       "3   5.8634  20020.8\n",
       "4   5.8934  20160.9"
      ]
     },
     "execution_count": 7,
     "metadata": {},
     "output_type": "execute_result"
    }
   ],
   "source": [
    "data[['М0, руб','М2, руб']].head()"
   ]
  },
  {
   "cell_type": "markdown",
   "metadata": {},
   "source": [
    "Проверим данные на наличие отсутствующих значений"
   ]
  },
  {
   "cell_type": "code",
   "execution_count": 8,
   "metadata": {},
   "outputs": [
    {
     "data": {
      "text/plain": [
       "Unnamed: 0                                           0\n",
       "Прирост вкладов физических лиц в рублях (млн руб)    0\n",
       "Доходность ОФЗ по сроку до 1 года                    0\n",
       "Ключевая ставка                                      0\n",
       "Ставка по вкладам в долларах до 1 года               0\n",
       "Ставка по вкладам в рублях до 1 года                 0\n",
       "Нефть марки Юралс, долл./барр                        0\n",
       "Индекс потребительских цен, ед.                      0\n",
       "М0, руб                                              0\n",
       "М2, руб                                              0\n",
       "Курс доллара к рублю, руб                            0\n",
       "Номинальная средняя з/п, руб                         0\n",
       "dtype: int64"
      ]
     },
     "metadata": {},
     "output_type": "display_data"
    }
   ],
   "source": [
    "null_series = pd.Series(data.isnull().sum())\n",
    "display(null_series)"
   ]
  },
  {
   "cell_type": "markdown",
   "metadata": {},
   "source": [
    "Отсутвующих данных нет.<br> Далее посмотрим на корреляцию всех признаков с целевой переменной *Прирост вкладов физических лиц в рублях (млн руб)*"
   ]
  },
  {
   "cell_type": "code",
   "execution_count": 9,
   "metadata": {},
   "outputs": [
    {
     "data": {
      "text/plain": [
       "Ключевая ставка                                      0.016667\n",
       "Доходность ОФЗ по сроку до 1 года                    0.017400\n",
       "Ставка по вкладам в рублях до 1 года                 0.025006\n",
       "Ставка по вкладам в долларах до 1 года               0.034415\n",
       "Нефть марки Юралс, долл./барр                        0.068321\n",
       "Курс доллара к рублю, руб                            0.080033\n",
       "Индекс потребительских цен, ед.                      0.102976\n",
       "М2, руб                                              0.146645\n",
       "М0, руб                                              0.186576\n",
       "Номинальная средняя з/п, руб                         0.422435\n",
       "Прирост вкладов физических лиц в рублях (млн руб)    1.000000\n",
       "Name: Прирост вкладов физических лиц в рублях (млн руб), dtype: float64"
      ]
     },
     "metadata": {},
     "output_type": "display_data"
    }
   ],
   "source": [
    "sorted_corrs = data.iloc[:,1:].corr()['Прирост вкладов физических лиц в рублях (млн руб)'].abs().sort_values()\n",
    "display(sorted_corrs)"
   ]
  },
  {
   "cell_type": "markdown",
   "metadata": {},
   "source": [
    "Из таблицы видно, что большая часть признаков имеет слабую корреляцию с целевой переменной. Наибольшее значение корреляции\n",
    "у признаков *Номинальная средняя з/п, М0, М2*\n",
    "<br>\n",
    "<br>\n",
    "Далее посмотрим существует ли корреляция между признаками, для этого воспользуемся тепловой матрицей"
   ]
  },
  {
   "cell_type": "code",
   "execution_count": 10,
   "metadata": {},
   "outputs": [
    {
     "data": {
      "image/png": "[encoded data removed]",
      "text/plain": [
       "<Figure size 720x720 with 2 Axes>"
      ]
     },
     "metadata": {
      "needs_background": "light"
     },
     "output_type": "display_data"
    }
   ],
   "source": [
    "plt.figure(figsize=(10, 10), frameon=True)\n",
    "sns.heatmap(data.iloc[:,1:].corr().abs(), annot=True, vmax=.9, linewidths=0.01, square=True, cmap='YlGnBu',linecolor=\"white\")\n",
    "plt.show()"
   ]
  },
  {
   "cell_type": "markdown",
   "metadata": {},
   "source": [
    "Как видно из теловой карты, некоторые признаки имеют высокую корреляцию с друг другом. <br>Поэтому для улучшения\n",
    "качества модели из пар признаков с высокой корреляции стоит удалить признак, имеющий меньший показатель с целевой переменной."
   ]
  },
  {
   "cell_type": "code",
   "execution_count": 11,
   "metadata": {},
   "outputs": [],
   "source": [
    "# переведем признаки в список и удалим некоторые из них\n",
    "features = data.columns.to_list()\n",
    "to_drop = ['Ключевая ставка','Индекс потребительских цен, ед.',\n",
    "                                       'М2, руб','Доходность ОФЗ по сроку до 1 года','Нефть марки Юралс, долл./барр',\n",
    "                                        'Unnamed: 0','Прирост вкладов физических лиц в рублях (млн руб)' ]\n",
    "for i in to_drop:\n",
    "    features.remove(i)"
   ]
  },
  {
   "cell_type": "markdown",
   "metadata": {},
   "source": [
    "Так как признаки имеют высокую вариативность, по сравнению с друг другом,стоит их нормализовать.<br>\n",
    "Для этого воспользуемся модулем preprocessing из библиотеки sklearn"
   ]
  },
  {
   "cell_type": "code",
   "execution_count": 12,
   "metadata": {},
   "outputs": [],
   "source": [
    "from sklearn import preprocessing\n",
    "min_max_scaler = preprocessing.MinMaxScaler()"
   ]
  },
  {
   "cell_type": "code",
   "execution_count": 13,
   "metadata": {},
   "outputs": [],
   "source": [
    "# для масштабирования и отбора признаков напишем спец. функцию\n",
    "def transform_df(data):\n",
    "    x = data.loc[:,features]\n",
    "    y = data['Прирост вкладов физических лиц в рублях (млн руб)']\n",
    "    x = pd.DataFrame(data=min_max_scaler.fit_transform(x), columns=features)\n",
    "    return x,y"
   ]
  },
  {
   "cell_type": "code",
   "execution_count": 14,
   "metadata": {},
   "outputs": [],
   "source": [
    "# разделяем данные\n",
    "X_train, y_train = transform_df(data)"
   ]
  },
  {
   "cell_type": "code",
   "execution_count": 15,
   "metadata": {},
   "outputs": [
    {
     "data": {
      "text/html": [
       "<div>\n",
       "<style scoped>\n",
       "    .dataframe tbody tr th:only-of-type {\n",
       "        vertical-align: middle;\n",
       "    }\n",
       "\n",
       "    .dataframe tbody tr th {\n",
       "        vertical-align: top;\n",
       "    }\n",
       "\n",
       "    .dataframe thead th {\n",
       "        text-align: right;\n",
       "    }\n",
       "</style>\n",
       "<table border=\"1\" class=\"dataframe\">\n",
       "  <thead>\n",
       "    <tr style=\"text-align: right;\">\n",
       "      <th></th>\n",
       "      <th>Ставка по вкладам в долларах до 1 года</th>\n",
       "      <th>Ставка по вкладам в рублях до 1 года</th>\n",
       "      <th>М0, руб</th>\n",
       "      <th>Курс доллара к рублю, руб</th>\n",
       "      <th>Номинальная средняя з/п, руб</th>\n",
       "    </tr>\n",
       "  </thead>\n",
       "  <tbody>\n",
       "    <tr>\n",
       "      <td>0</td>\n",
       "      <td>0.506383</td>\n",
       "      <td>0.060024</td>\n",
       "      <td>0.000000</td>\n",
       "      <td>0.044782</td>\n",
       "      <td>0.000000</td>\n",
       "    </tr>\n",
       "    <tr>\n",
       "      <td>1</td>\n",
       "      <td>0.548936</td>\n",
       "      <td>0.048019</td>\n",
       "      <td>0.018192</td>\n",
       "      <td>0.028774</td>\n",
       "      <td>0.000369</td>\n",
       "    </tr>\n",
       "    <tr>\n",
       "      <td>2</td>\n",
       "      <td>0.548936</td>\n",
       "      <td>0.024010</td>\n",
       "      <td>0.025689</td>\n",
       "      <td>0.011348</td>\n",
       "      <td>0.067178</td>\n",
       "    </tr>\n",
       "    <tr>\n",
       "      <td>3</td>\n",
       "      <td>0.442553</td>\n",
       "      <td>0.012005</td>\n",
       "      <td>0.074411</td>\n",
       "      <td>0.004661</td>\n",
       "      <td>0.062016</td>\n",
       "    </tr>\n",
       "    <tr>\n",
       "      <td>4</td>\n",
       "      <td>0.442553</td>\n",
       "      <td>0.012005</td>\n",
       "      <td>0.081165</td>\n",
       "      <td>0.000000</td>\n",
       "      <td>0.070732</td>\n",
       "    </tr>\n",
       "  </tbody>\n",
       "</table>\n",
       "</div>"
      ],
      "text/plain": [
       "   Ставка по вкладам в долларах до 1 года  \\\n",
       "0                                0.506383   \n",
       "1                                0.548936   \n",
       "2                                0.548936   \n",
       "3                                0.442553   \n",
       "4                                0.442553   \n",
       "\n",
       "   Ставка по вкладам в рублях до 1 года   М0, руб  Курс доллара к рублю, руб  \\\n",
       "0                              0.060024  0.000000                   0.044782   \n",
       "1                              0.048019  0.018192                   0.028774   \n",
       "2                              0.024010  0.025689                   0.011348   \n",
       "3                              0.012005  0.074411                   0.004661   \n",
       "4                              0.012005  0.081165                   0.000000   \n",
       "\n",
       "   Номинальная средняя з/п, руб  \n",
       "0                      0.000000  \n",
       "1                      0.000369  \n",
       "2                      0.067178  \n",
       "3                      0.062016  \n",
       "4                      0.070732  "
      ]
     },
     "execution_count": 15,
     "metadata": {},
     "output_type": "execute_result"
    }
   ],
   "source": [
    "#после нормализации признаки выглядят\n",
    "X_train.head()"
   ]
  },
  {
   "cell_type": "code",
   "execution_count": 16,
   "metadata": {},
   "outputs": [
    {
     "data": {
      "text/plain": [
       "<matplotlib.axes._subplots.AxesSubplot at 0x257f4d1b8c8>"
      ]
     },
     "execution_count": 16,
     "metadata": {},
     "output_type": "execute_result"
    },
    {
     "data": {
      "image/png": "[encoded data removed]",
      "text/plain": [
       "<Figure size 432x288 with 1 Axes>"
      ]
     },
     "metadata": {
      "needs_background": "light"
     },
     "output_type": "display_data"
    }
   ],
   "source": [
    "#посмотрим на распределение целевой переменной\n",
    "sns.distplot(y_train)"
   ]
  },
  {
   "cell_type": "markdown",
   "metadata": {},
   "source": [
    "Как видно из распределения, целевая переменная имеет распределение, близкое к нормальному."
   ]
  },
  {
   "cell_type": "markdown",
   "metadata": {},
   "source": [
    "# Построение модели"
   ]
  },
  {
   "cell_type": "markdown",
   "metadata": {},
   "source": [
    "Для выбора наилучшей. сравним несколько разных моделей регрессии.\n",
    "Импортируем их из соответствующих модулей"
   ]
  },
  {
   "cell_type": "code",
   "execution_count": 17,
   "metadata": {},
   "outputs": [],
   "source": [
    "from sklearn import  linear_model\n",
    "from sklearn.tree import DecisionTreeRegressor\n",
    "from sklearn.neighbors import KNeighborsRegressor\n",
    "from sklearn.ensemble import GradientBoostingRegressor"
   ]
  },
  {
   "cell_type": "markdown",
   "metadata": {},
   "source": [
    "Для борьбы с переобучением воспользуемся кросс-валидацией(с количеством фолдов 5).<br>\n",
    "Для сравнения качества моделей воспользуемся метрикой качества **mean_squared_error(MSE)**\n",
    "и **root_mean_squared_error(RMSE)**"
   ]
  },
  {
   "cell_type": "code",
   "execution_count": 21,
   "metadata": {},
   "outputs": [],
   "source": [
    "from sklearn.model_selection import cross_val_score\n",
    "from sklearn.model_selection import KFold\n",
    "kf = KFold(n_splits=5)"
   ]
  },
  {
   "cell_type": "code",
   "execution_count": 20,
   "metadata": {},
   "outputs": [],
   "source": [
    "# Результаты по каждой модели поместим в один словарь\n",
    "scores_map = {}"
   ]
  },
  {
   "cell_type": "code",
   "execution_count": 22,
   "metadata": {},
   "outputs": [
    {
     "name": "stdout",
     "output_type": "stream",
     "text": [
      "RMSE: 234850.62 (+/- 64202.13)\n"
     ]
    }
   ],
   "source": [
    "# Модель линейной регрессии\n",
    "l_regression = linear_model.LinearRegression()\n",
    "scores = cross_val_score(l_regression,X_train, y_train, cv=kf, scoring='neg_mean_squared_error')\n",
    "rmses = np.array([abs(i)**0.5 for i in scores])\n",
    "scores_map['LinearRegression'] = rmses\n",
    "print(\"RMSE: %0.2f (+/- %0.2f)\" % (rmses.mean(), rmses.std()))"
   ]
  },
  {
   "cell_type": "code",
   "execution_count": 23,
   "metadata": {},
   "outputs": [
    {
     "name": "stdout",
     "output_type": "stream",
     "text": [
      "RMSE: 240230.92 (+/- 49887.66)\n"
     ]
    }
   ],
   "source": [
    "# Модель Ридже регрессии\n",
    "l_ridge = linear_model.Ridge()\n",
    "scores = cross_val_score(l_ridge, X_train, y_train, cv=kf, scoring='neg_mean_squared_error')\n",
    "rmses = np.array([abs(i)**0.5 for i in scores])\n",
    "scores_map['RidgeRegression'] = rmses\n",
    "print(\"RMSE: %0.2f (+/- %0.2f)\" % (rmses.mean(), rmses.std()))"
   ]
  },
  {
   "cell_type": "code",
   "execution_count": 24,
   "metadata": {},
   "outputs": [
    {
     "name": "stdout",
     "output_type": "stream",
     "text": [
      "RMSE: 266564.39 (+/- 81211.27)\n"
     ]
    }
   ],
   "source": [
    "# Модель регрессии дерева решений\n",
    "desc_tr = DecisionTreeRegressor(max_depth=5)\n",
    "scores = cross_val_score(desc_tr, X_train, y_train, cv=kf, scoring='neg_mean_squared_error')\n",
    "rmses = np.array([abs(i)**0.5 for i in scores])\n",
    "scores_map['DecisionTreeRegressor'] = rmses\n",
    "print(\"RMSE: %0.2f (+/- %0.2f)\" % (rmses.mean(), rmses.std()))"
   ]
  },
  {
   "cell_type": "code",
   "execution_count": 25,
   "metadata": {},
   "outputs": [
    {
     "name": "stdout",
     "output_type": "stream",
     "text": [
      "RMSE: 239503.89 (+/- 49574.45)\n"
     ]
    }
   ],
   "source": [
    "# Модель регрессии К ближайщих соседей\n",
    "knn = KNeighborsRegressor(n_neighbors=7)\n",
    "scores = cross_val_score(knn, X_train, y_train, cv=kf, scoring='neg_mean_squared_error')\n",
    "rmses = np.array([abs(i)**0.5 for i in scores])\n",
    "scores_map['KNeighborsRegressor'] = rmses\n",
    "print(\"RMSE: %0.2f (+/- %0.2f)\" % (rmses.mean(), rmses.std()))"
   ]
  },
  {
   "cell_type": "code",
   "execution_count": 26,
   "metadata": {},
   "outputs": [
    {
     "name": "stdout",
     "output_type": "stream",
     "text": [
      "RMSE: 209709.04 (+/- 65620.23)\n"
     ]
    }
   ],
   "source": [
    "# Модель регрессии градиентного бустинга\n",
    "gbr = GradientBoostingRegressor()\n",
    "scores = cross_val_score(gbr, X_train, y_train, cv=kf, scoring='neg_mean_squared_error')\n",
    "rmses = np.array([abs(i)**0.5 for i in scores])\n",
    "scores_map['GBRegressor'] = rmses\n",
    "print(\"RMSE: %0.2f (+/- %0.2f)\" % (rmses.mean(), rmses.std()))"
   ]
  },
  {
   "cell_type": "markdown",
   "metadata": {},
   "source": [
    "Результаты работы моделей визуализируем с помощью графика бокс плот"
   ]
  },
  {
   "cell_type": "code",
   "execution_count": 27,
   "metadata": {},
   "outputs": [
    {
     "data": {
      "text/plain": [
       "Text(0.5, 0, 'Модель')"
      ]
     },
     "execution_count": 27,
     "metadata": {},
     "output_type": "execute_result"
    },
    {
     "data": {
      "image/png": "[encoded data removed]",
      "text/plain": [
       "<Figure size 720x360 with 1 Axes>"
      ]
     },
     "metadata": {
      "needs_background": "light"
     },
     "output_type": "display_data"
    }
   ],
   "source": [
    "plt.figure(figsize=(10, 5))\n",
    "scores_map = pd.DataFrame(scores_map)\n",
    "sns.boxplot(data=scores_map)\n",
    "plt.ylabel('RMSE')\n",
    "plt.xlabel('Модель')"
   ]
  },
  {
   "cell_type": "markdown",
   "metadata": {},
   "source": [
    "Из графика бокс плот следует, что наибольшое качество показали модели Градиентного бустинга и К ближайщих соседей.<br>\n",
    "Но так как метод К ближайщих соседей является не совсем математической моделью, то для остановимся на модели Градиентного бустинга.<br>\n",
    "Для подбора параметров модели регрессии Градиентного бустинга, воспользуемся решетчатым поиском"
   ]
  },
  {
   "cell_type": "code",
   "execution_count": 28,
   "metadata": {},
   "outputs": [],
   "source": [
    "from sklearn.model_selection import GridSearchCV"
   ]
  },
  {
   "cell_type": "code",
   "execution_count": 45,
   "metadata": {},
   "outputs": [
    {
     "name": "stdout",
     "output_type": "stream",
     "text": [
      "Best: 217858.80 using {'n_estimators': 400}\n"
     ]
    }
   ],
   "source": [
    "# подбирать будем параметр n_estimators\n",
    "param_grid = dict(n_estimators=np.array([50,100,150,200,250,300,350,400]))\n",
    "model = GradientBoostingRegressor()\n",
    "grid = GridSearchCV(estimator=model, param_grid=param_grid, scoring='neg_mean_squared_error', cv=kf)\n",
    "grid_result = grid.fit(X_train, y_train)\n",
    "\n",
    "#выведим лучший показатель метрики RMSE\n",
    "print(\"Best: %0.2f using %s\" % (abs(grid_result.best_score_)**0.5, grid_result.best_params_))"
   ]
  },
  {
   "cell_type": "code",
   "execution_count": 46,
   "metadata": {},
   "outputs": [],
   "source": [
    "#запишем лучший регрессор в переменную\n",
    "best_reg = grid_result.best_estimator_"
   ]
  },
  {
   "cell_type": "markdown",
   "metadata": {},
   "source": [
    "# Прогнозирование и оценка качества"
   ]
  },
  {
   "cell_type": "markdown",
   "metadata": {},
   "source": [
    "Загрузим тестовую выборку и построим предсказание с помощью полученной модели"
   ]
  },
  {
   "cell_type": "code",
   "execution_count": 33,
   "metadata": {},
   "outputs": [
    {
     "data": {
      "text/html": [
       "<div>\n",
       "<style scoped>\n",
       "    .dataframe tbody tr th:only-of-type {\n",
       "        vertical-align: middle;\n",
       "    }\n",
       "\n",
       "    .dataframe tbody tr th {\n",
       "        vertical-align: top;\n",
       "    }\n",
       "\n",
       "    .dataframe thead th {\n",
       "        text-align: right;\n",
       "    }\n",
       "</style>\n",
       "<table border=\"1\" class=\"dataframe\">\n",
       "  <thead>\n",
       "    <tr style=\"text-align: right;\">\n",
       "      <th></th>\n",
       "      <th>Unnamed: 0</th>\n",
       "      <th>Прирост вкладов физических лиц в рублях (млн руб)</th>\n",
       "      <th>Доходность ОФЗ по сроку до 1 года</th>\n",
       "      <th>Ключевая ставка</th>\n",
       "      <th>Ставка по вкладам в долларах до 1 года</th>\n",
       "      <th>Ставка по вкладам в рублях до 1 года</th>\n",
       "      <th>Нефть марки Юралс, долл./барр</th>\n",
       "      <th>Индекс потребительских цен, ед.</th>\n",
       "      <th>М0, руб</th>\n",
       "      <th>М2, руб</th>\n",
       "      <th>Курс доллара к рублю, руб</th>\n",
       "      <th>Номинальная средняя з/п, руб</th>\n",
       "    </tr>\n",
       "  </thead>\n",
       "  <tbody>\n",
       "    <tr>\n",
       "      <td>0</td>\n",
       "      <td>2018-01-01</td>\n",
       "      <td>-453104</td>\n",
       "      <td>6.49</td>\n",
       "      <td>7.75</td>\n",
       "      <td>0.76</td>\n",
       "      <td>5.53</td>\n",
       "      <td>69.7</td>\n",
       "      <td>170.1</td>\n",
       "      <td>8446.0</td>\n",
       "      <td>42442.2</td>\n",
       "      <td>56.49</td>\n",
       "      <td>39017</td>\n",
       "    </tr>\n",
       "    <tr>\n",
       "      <td>1</td>\n",
       "      <td>2018-02-01</td>\n",
       "      <td>380519</td>\n",
       "      <td>6.72</td>\n",
       "      <td>7.50</td>\n",
       "      <td>0.72</td>\n",
       "      <td>5.42</td>\n",
       "      <td>65.1</td>\n",
       "      <td>170.5</td>\n",
       "      <td>8163.6</td>\n",
       "      <td>41597.5</td>\n",
       "      <td>56.80</td>\n",
       "      <td>40443</td>\n",
       "    </tr>\n",
       "    <tr>\n",
       "      <td>2</td>\n",
       "      <td>2018-03-01</td>\n",
       "      <td>211634</td>\n",
       "      <td>6.30</td>\n",
       "      <td>7.50</td>\n",
       "      <td>0.83</td>\n",
       "      <td>5.43</td>\n",
       "      <td>67.8</td>\n",
       "      <td>171.0</td>\n",
       "      <td>8301.0</td>\n",
       "      <td>42045.5</td>\n",
       "      <td>57.06</td>\n",
       "      <td>42364</td>\n",
       "    </tr>\n",
       "    <tr>\n",
       "      <td>3</td>\n",
       "      <td>2018-04-01</td>\n",
       "      <td>450166</td>\n",
       "      <td>6.13</td>\n",
       "      <td>7.25</td>\n",
       "      <td>0.83</td>\n",
       "      <td>5.29</td>\n",
       "      <td>71.6</td>\n",
       "      <td>171.6</td>\n",
       "      <td>8442.6</td>\n",
       "      <td>42377.0</td>\n",
       "      <td>60.76</td>\n",
       "      <td>43381</td>\n",
       "    </tr>\n",
       "    <tr>\n",
       "      <td>4</td>\n",
       "      <td>2018-05-01</td>\n",
       "      <td>239</td>\n",
       "      <td>6.57</td>\n",
       "      <td>7.25</td>\n",
       "      <td>1.49</td>\n",
       "      <td>5.39</td>\n",
       "      <td>76.5</td>\n",
       "      <td>172.3</td>\n",
       "      <td>8712.3</td>\n",
       "      <td>43122.0</td>\n",
       "      <td>62.23</td>\n",
       "      <td>44076</td>\n",
       "    </tr>\n",
       "  </tbody>\n",
       "</table>\n",
       "</div>"
      ],
      "text/plain": [
       "  Unnamed: 0  Прирост вкладов физических лиц в рублях (млн руб)  \\\n",
       "0 2018-01-01                                            -453104   \n",
       "1 2018-02-01                                             380519   \n",
       "2 2018-03-01                                             211634   \n",
       "3 2018-04-01                                             450166   \n",
       "4 2018-05-01                                                239   \n",
       "\n",
       "   Доходность ОФЗ по сроку до 1 года  Ключевая ставка  \\\n",
       "0                               6.49             7.75   \n",
       "1                               6.72             7.50   \n",
       "2                               6.30             7.50   \n",
       "3                               6.13             7.25   \n",
       "4                               6.57             7.25   \n",
       "\n",
       "   Ставка по вкладам в долларах до 1 года  \\\n",
       "0                                    0.76   \n",
       "1                                    0.72   \n",
       "2                                    0.83   \n",
       "3                                    0.83   \n",
       "4                                    1.49   \n",
       "\n",
       "   Ставка по вкладам в рублях до 1 года  Нефть марки Юралс, долл./барр  \\\n",
       "0                                  5.53                           69.7   \n",
       "1                                  5.42                           65.1   \n",
       "2                                  5.43                           67.8   \n",
       "3                                  5.29                           71.6   \n",
       "4                                  5.39                           76.5   \n",
       "\n",
       "   Индекс потребительских цен, ед.  М0, руб  М2, руб  \\\n",
       "0                            170.1   8446.0  42442.2   \n",
       "1                            170.5   8163.6  41597.5   \n",
       "2                            171.0   8301.0  42045.5   \n",
       "3                            171.6   8442.6  42377.0   \n",
       "4                            172.3   8712.3  43122.0   \n",
       "\n",
       "   Курс доллара к рублю, руб  Номинальная средняя з/п, руб  \n",
       "0                      56.49                         39017  \n",
       "1                      56.80                         40443  \n",
       "2                      57.06                         42364  \n",
       "3                      60.76                         43381  \n",
       "4                      62.23                         44076  "
      ]
     },
     "execution_count": 33,
     "metadata": {},
     "output_type": "execute_result"
    }
   ],
   "source": [
    "test_data = pd.read_excel('BST_DataSet_2018.xlsx')\n",
    "test_data.head()"
   ]
  },
  {
   "cell_type": "code",
   "execution_count": 43,
   "metadata": {},
   "outputs": [],
   "source": [
    "# С помощюь уже созданной функции отберем признаки и масштабируем их\n",
    "X_test, y_test = transform_df(test_data)"
   ]
  },
  {
   "cell_type": "code",
   "execution_count": 47,
   "metadata": {},
   "outputs": [
    {
     "name": "stdout",
     "output_type": "stream",
     "text": [
      "RMSE: 264380.50 \n"
     ]
    }
   ],
   "source": [
    "# построим прогноз и оценим его качество с помощью MSE и RMSE\n",
    "from sklearn.metrics import mean_squared_error\n",
    "predictions = best_reg.predict(X_test)\n",
    "mse = mean_squared_error(y_test, predictions)\n",
    "rmse = mse**0.5\n",
    "print(\"RMSE: %0.2f \" % (rmse))"
   ]
  },
  {
   "cell_type": "code",
   "execution_count": 49,
   "metadata": {},
   "outputs": [
    {
     "data": {
      "text/plain": [
       "<matplotlib.axes._subplots.AxesSubplot at 0x257f4ccb548>"
      ]
     },
     "execution_count": 49,
     "metadata": {},
     "output_type": "execute_result"
    },
    {
     "data": {
      "image/png": "[encoded data removed]",
      "text/plain": [
       "<Figure size 864x576 with 1 Axes>"
      ]
     },
     "metadata": {
      "needs_background": "light"
     },
     "output_type": "display_data"
    }
   ],
   "source": [
    "# Посмотрим какие признаки имеили наибольшее влияние на прогноз\n",
    "features_imp = pd.DataFrame( best_reg.feature_importances_, index=X_train.columns, columns=['score'])\n",
    "features_imp.sort_values('score').plot(kind='barh', figsize=(12, 8))"
   ]
  },
  {
   "cell_type": "markdown",
   "metadata": {},
   "source": [
    "# Заключение"
   ]
  },
  {
   "cell_type": "markdown",
   "metadata": {},
   "source": [
    "После проведенных подбора и построения модели, анализ показал, что наиболее подходящей моделью регрессии\n",
    "является модель Градиентного бустинга. <br><br>\n",
    "На тестовой выборке метрика RMSE оказалась выше(264380), чем на обучающей(217858), что говорит о не очень высокой обобщающей способности, причиной которой может быть как недостаточно большой обьем обучающей выборки, так и низкая корреляция \n",
    "признаков с целевой переменной.<br>\n",
    "<br>\n",
    "Наибольшее влияние на прогноз оказали признаки : *Номинальная средняя з/п*,что логично с экономической точки зрения\n",
    "(при увеличении з\\п увеличивается объем средств, которые люди могут отложить во вклад и наоборот)\n",
    "и *Ставка по вкдадам*, что так же очевидно(более высокая ставка несет более выгодные условия для вложений и наоборот).\n"
   ]
  },
  {
   "cell_type": "code",
   "execution_count": null,
   "metadata": {},
   "outputs": [],
   "source": []
  }
 ],
 "metadata": {
  "kernelspec": {
   "display_name": "Python 3",
   "language": "python",
   "name": "python3"
  },
  "language_info": {
   "codemirror_mode": {
    "name": "ipython",
    "version": 3
   },
   "file_extension": ".py",
   "mimetype": "text/x-python",
   "name": "python",
   "nbconvert_exporter": "python",
   "pygments_lexer": "ipython3",
   "version": "3.7.4"
  }
 },
 "nbformat": 4,
 "nbformat_minor": 2
}
